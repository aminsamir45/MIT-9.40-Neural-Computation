{
  "cells": [
    {
      "cell_type": "markdown",
      "metadata": {
        "id": "view-in-github",
        "colab_type": "text"
      },
      "source": [
        "<a href=\"https://colab.research.google.com/github/aminsamir45/MIT-9.40-Neural-Computation/blob/main/PSET%202/PSET2_template.ipynb\" target=\"_parent\"><img src=\"https://colab.research.google.com/assets/colab-badge.svg\" alt=\"Open In Colab\"/></a>"
      ]
    },
    {
      "cell_type": "markdown",
      "metadata": {
        "id": "L6LzhL2rp_pe"
      },
      "source": [
        "# **PSET 2         $\\hspace{3in}$                                      Due 03/3/2023 - 11:59PM**\n",
        "\n",
        "# NAME: Samir Amin\n",
        "# GMAIL: aminsam@mit.edu\n",
        "\n",
        "\n",
        "\n",
        "---\n",
        "\n",
        "link to your colab: https://colab.research.google.com/drive/1y6EIIVqD3wbaAkF5s2q21D9eOcS-7EZS\n",
        "\n",
        "---\n",
        "\n",
        "\n",
        "\n",
        "\n",
        "# Learning objectives and outcomes:\n",
        "\n",
        "This problem set investigates two models of how neurons spike in response to current inputs. The **leaky integrate and fire** (LIF) model is based on the simple RC model of a cell, with an extra rule: the model neuron spikes whenever the membrane potential passes above a threshold. Despite its simplicity, the ideas behind this model constitute the cornerstone of many fundamental computational modelling approaches. In contrast to this simplified model, real neurons produce spikes due to the presence of voltage-dependent ion channels. The Hodgkin-Huxley model is the first model to capture these rich dynamics. It does so by incorporating biophysically accurate descriptions of the sodium and potassium channels. More elaborate biophysically inspired models take the work of Hodgkin-Huxley as a starting point. \n",
        "These models were covered in lectures 3-5. \n",
        "\n",
        "The expected learning outcomes for this PSET are:\n",
        "\n",
        "* Estimate model parameters from different plots of model behavior.\n",
        "*\tInterpret the biophysical role of these parameters.\n",
        "*\tWrite code to simulate a model to check your parameter estimations.\n",
        "*\tProduce f-I curves (firing rate versus current injected).  \n",
        "*\tBe able to present your results as a cohesive and well-structured report.\n",
        "\n",
        "\n",
        "##Python functions you will need:\n",
        "\n",
        "There is quite a lot of overlap with PSET 1 in terms of functions needed to successfully complete this PSET.\n",
        "\n",
        "There are many help functions in this PSET. Some of these functions are not fully functional and you will have to supply any missing code in them.\n",
        "\n",
        ".\n",
        "\n",
        "\n",
        "In addition, the following data files are needed:\n",
        "\n",
        "\n",
        "\n",
        "*   fi_data.npz\n",
        "*   lowInput.npz\n",
        "*  spikingData.npz\n",
        "*  zeroInput.npz\n",
        "\n",
        "\n",
        ".\n",
        "\n",
        " \n",
        "As a reminder the main plotting toolbox is matplotlib. Remember that, when using subplots, the function $pyplot.tight\\_layout()$ can help keep things tidy!\n",
        "\n",
        "\n",
        "\n",
        "---\n",
        "\n",
        "\n"
      ]
    },
    {
      "cell_type": "markdown",
      "metadata": {
        "id": "HwvNcRugwvfo"
      },
      "source": [
        "Next, mount your google drive. This is where you will be saving your files which you can access from anywhere.\n",
        "Colab will add a new folder \"Colab Notebook\" to your google drive. This can be accessed from \"drive/MyDrive/\" on the left as you click on the folder picture. You can also create our own folder."
      ]
    },
    {
      "cell_type": "code",
      "execution_count": null,
      "metadata": {
        "id": "veQaqqwCCPZN",
        "colab": {
          "base_uri": "https://localhost:8080/"
        },
        "outputId": "ef60cf9d-5004-4b47-bf15-f2570fb8aa12"
      },
      "outputs": [
        {
          "output_type": "stream",
          "name": "stdout",
          "text": [
            "Mounted at /content/drive\n"
          ]
        }
      ],
      "source": [
        "from google.colab import drive\n",
        "drive.mount('/content/drive')\n",
        "\n",
        "# If you choose to build helper functions instead of the structure we provided you here, you'll have to update the files in the cloud if you make any changes to helper functions you build:\n",
        "#drive.mount(\"/content/drive\", force_remount=True)  # instead of remounting, you can use 'Runtime/Resart and run all'\n",
        "# \n",
        "# "
      ]
    },
    {
      "cell_type": "markdown",
      "metadata": {
        "id": "7tjeyaMmMEAX"
      },
      "source": [
        "# **Problem 1: Estimating the LIF parameters**\n",
        "\n",
        "\n",
        "The provided data files (*.npz) contain the outputs of a simulated leaky integrate-and-fire neuron. You will use these data to determine the properties of the model used to generate the data.\n",
        "\n",
        "You have three files that contain the outputs of this model $(zeroInput.npz, spikingData.npz and lowInput.npz)$. \n",
        "\n",
        "These files contain outputs of the model neuron’s voltage (as $‘V’$) and spike times (timestamps at which spikes were generated, as $‘spkTimes’$), along with the current used to stimulate the neuron (as $‘I’$) and a time vector (as $‘t’$). Keep in mind that the size of $‘spkTimes’$ will vary depending on the current used to stimulate the cell. In particular, if there are no spikes in response to the current, spkTimes will be empty.\n",
        "\n",
        ".\n",
        "\n",
        "\n",
        "You also have a file called $fi\\_data.npz$, which contains the spike rate (as $‘rate’$) for the neuron in response to different current stimulations ($‘amps’$).\n",
        "\n",
        "\n",
        ".\n",
        "\n",
        "\n",
        "We know that the behavior of an LIF neuron is determined by 5 parameters: the resting membrane potential $(EL)$, the spiking threshold $(Vthresh)$, the reset membrane potential $(Vreset)$, the total membrane resistance $(Rm)$, and the total membrane capacitance $(Cm)$.\n",
        "\n",
        ".\n",
        "\n",
        "\n",
        "Your job is to use plots and/or calculations to estimate each of these parameters from the data. Keep in mind that you will have to use all of the data files provided to recover all 5 parameters.\n",
        "\n",
        "\n",
        "\n",
        "\n",
        "\n",
        "Using relevant plots and or calculations complete these tasks. Make sure to justify all your answers properly and provide proper units for your estimates. \n",
        "\n"
      ]
    },
    {
      "cell_type": "code",
      "execution_count": null,
      "metadata": {
        "id": "EQUl0AsZRiUP"
      },
      "outputs": [],
      "source": [
        "import numpy as np\n",
        "import matplotlib.pyplot as plt"
      ]
    },
    {
      "cell_type": "markdown",
      "metadata": {
        "id": "_L1GApf_Ip85"
      },
      "source": [
        "## Question 1.1:\n",
        "\n",
        "Load and plot voltage and current traces for each of the three simulation data files below."
      ]
    },
    {
      "cell_type": "markdown",
      "metadata": {
        "id": "F0TL4N23SfIe"
      },
      "source": [
        "First, let's import and plot each data file. Note that each of these has the \n",
        " same variable names in the dictionary, so they should be loaded and assigned \n",
        " independently."
      ]
    },
    {
      "cell_type": "code",
      "execution_count": null,
      "metadata": {
        "colab": {
          "base_uri": "https://localhost:8080/",
          "height": 726
        },
        "id": "gR7ZQja2p_pk",
        "outputId": "575ff025-61e4-49bb-bd05-88156616e372"
      },
      "outputs": [
        {
          "output_type": "display_data",
          "data": {
            "text/plain": [
              "<Figure size 720x720 with 6 Axes>"
            ],
            "image/png": "[encoded data removed]"
          },
          "metadata": {
            "needs_background": "light"
          }
        }
      ],
      "source": [
        "# load the data files from your google drive. (Remember my_colab is my local folder in my grdive where I saved my files. Yours may be different!)\n",
        "\n",
        "zero_input_data = np.load('/content/drive/My Drive/Colab Notebooks/9.40/psets/PSET 2/zeroInput.npz')\n",
        "low_input_data = np.load('/content/drive/My Drive/Colab Notebooks/9.40/psets/PSET 2/lowInput.npz')\n",
        "spiking_neuron_data = np.load('/content/drive/My Drive/Colab Notebooks/9.40/psets/PSET 2/spikingData.npz')\n",
        "\n",
        "t_zero, V_zero, I_zero = zero_input_data['t'], zero_input_data['V'], zero_input_data['I']\n",
        "t_low, V_low, I_low = low_input_data['t'], low_input_data['V'], low_input_data['I']\n",
        "t_spiking, V_spiking, I_spiking = spiking_neuron_data['t'], spiking_neuron_data['V'], spiking_neuron_data['I']\n",
        "\n",
        "fig, axs = plt.subplots(3, 2, figsize=(10, 10))\n",
        "fig.suptitle('Voltage and Current Traces')\n",
        "\n",
        "# zero input\n",
        "axs[0, 0].plot(t_zero, V_zero, label='Vm')\n",
        "axs[0, 0].set_title('Zero Input')\n",
        "axs[0, 1].plot(t_zero, I_zero, label='Iinj', color='r')\n",
        "axs[0, 1].set_title('Zero Input')\n",
        "\n",
        "# low input \n",
        "axs[1, 0].plot(t_low, V_low, label='Vm')\n",
        "axs[1, 0].set_title('Low Input')\n",
        "axs[1, 1].plot(t_low, I_low, label='Iinj', color='r')\n",
        "axs[1, 1].set_title('Low Input')\n",
        "\n",
        "# spiking neuron \n",
        "axs[2, 0].plot(t_spiking, V_spiking, label='Vm')\n",
        "axs[2, 0].set_title('Spiking Neuron')\n",
        "axs[2, 1].plot(t_spiking, I_spiking, label='Iinj', color='r')\n",
        "axs[2, 1].set_title('Spiking Neuron')\n",
        "\n",
        "# legends and labels\n",
        "for ax in axs.flat:\n",
        "    ax.set(xlabel='Time (ms)', ylabel='Voltage (mV) (left) Current (nA) (right)')\n",
        "    ax.legend()\n",
        "\n",
        "plt.tight_layout()\n",
        "plt.show()\n",
        "\n",
        "\n",
        "\n",
        "\n",
        "\n"
      ]
    },
    {
      "cell_type": "markdown",
      "metadata": {
        "id": "Uy-KCI3URmDK"
      },
      "source": [
        "##Question 1.2\n",
        "\n",
        "Estimate the membrane potential, $E_L$, for this neuron.\n",
        "\n",
        "\n",
        "Use a combination of analytic/graphical method."
      ]
    },
    {
      "cell_type": "markdown",
      "metadata": {
        "id": "6CvI4OTWp_po"
      },
      "source": [
        "Answer:\n",
        "\n",
        "According to all three Voltage graphs in question 1, we see that the membrane potential is when the neuron is not spiking. The curve begins to flatten out. The value of this membrane potential is -75 mV\n"
      ]
    },
    {
      "cell_type": "markdown",
      "metadata": {
        "id": "Q41U087Fp_pp"
      },
      "source": [
        "## Question 1.3:\n",
        "\n",
        "* Estimate $V_{thresh}$.\n",
        "\n",
        "\n",
        "\n",
        "\n"
      ]
    },
    {
      "cell_type": "markdown",
      "source": [
        "Vthresh is approximately -50mv according to the first-spike latency method, where the constant spike of the first action potential indicates the threshold. "
      ],
      "metadata": {
        "id": "ASmXDgagJLdh"
      }
    },
    {
      "cell_type": "markdown",
      "metadata": {
        "id": "VDIU_GRv7Bm2"
      },
      "source": [
        "## Question 1.4:\n",
        "* Estimate $V_{reset}$.\n",
        "\n",
        "\n"
      ]
    },
    {
      "cell_type": "markdown",
      "source": [
        "Vreset is approximately -70mv according to the graph. This is because after each of the spikes in the spiking neuron graph, the Voltage decreases to -70mv before spiking again. Therefore, this is the value of the voltage reseting."
      ],
      "metadata": {
        "id": "jw_nQX6wJHDO"
      }
    },
    {
      "cell_type": "markdown",
      "metadata": {
        "id": "RyZudI_Pp_pq"
      },
      "source": [
        "\n",
        "\n",
        "## Question 1.5\n",
        "\n",
        "* Estimate $R_m$\n",
        "\n",
        "\n",
        "\n",
        "\n"
      ]
    },
    {
      "cell_type": "markdown",
      "source": [
        "Rm is estimated based on Ohm's law: Rm = deltaV / deltaI. We can see from the graphs above that the integral of the Voltage graph on the left is 100 times more than the integral of the current graphs on the right. Therefore, Rm must be 100 megaohms"
      ],
      "metadata": {
        "id": "RsXKlM7rLZOH"
      }
    },
    {
      "cell_type": "markdown",
      "metadata": {
        "id": "DO_pcgUc47Ae"
      },
      "source": [
        "## Question 1.6:\n",
        "\n",
        "* From the graph of a step current, estimate the time constant for this neuron\n",
        "\n"
      ]
    },
    {
      "cell_type": "markdown",
      "source": [
        "The time constant is approximately 10ms"
      ],
      "metadata": {
        "id": "qJGImbD-Wiba"
      }
    },
    {
      "cell_type": "markdown",
      "metadata": {
        "id": "yaewzfUK4-Ej"
      },
      "source": [
        "## Question 1.7:\n",
        "* Estimate $C_m$ for this neuron"
      ]
    },
    {
      "cell_type": "markdown",
      "source": [
        "Cm for this would be 0.1 nF because the equation for the time constant is tau = R*C which becomes C = tau / R."
      ],
      "metadata": {
        "id": "7AeFXH-qijup"
      }
    },
    {
      "cell_type": "markdown",
      "metadata": {
        "id": "bjq5wVFap_pr"
      },
      "source": [
        "## Question 1.8:\n",
        "\n",
        "Estimate the rheobase of this neuron, i.e., the current amplitude such that the steady-state is equal to $V_{thresh}$.\n",
        "\n",
        "What is the significance of the rheobase with respect to the neuron's spiking behavior?\n",
        "\n"
      ]
    },
    {
      "cell_type": "markdown",
      "metadata": {
        "id": "C8GqO5gkSNeo"
      },
      "source": [
        "Answer:The rheobase is approximately 0.25 nA. We can see this from the graph of the spiking neuron data with current (right). The significance of the rheobase is that for any value greater than it, the neuron will spike. For any value less than it, the neuron will not spike. \n",
        "\n",
        "\n",
        "\n",
        "Hint: An analytic argument should be enough to determine I_rheobase.\n",
        "\n",
        "\n",
        "\n",
        ".\n",
        "\n",
        "\n"
      ]
    },
    {
      "cell_type": "markdown",
      "metadata": {
        "id": "u13BrAi8p_pr"
      },
      "source": [
        "## Question 1.9:\n",
        "\n",
        "Plot the firing rate $f$ in Hertz (Hz) as a function of the injected current amplitude. This is called an f-I curve. Describe the different regions of this curve.\n",
        "\n",
        "**Use fi_data.npz.**\n",
        "\n",
        "\n",
        "Note: We are defining the rate the same way as we did in class: as the reciprocal of the time elapsed between two consecutive spikes.\n",
        "\n",
        "\n",
        "\n"
      ]
    },
    {
      "cell_type": "markdown",
      "metadata": {
        "id": "xP_Yd-vRg01B"
      },
      "source": [
        "Answer:\n",
        "\n",
        "\n",
        "\n"
      ]
    },
    {
      "cell_type": "code",
      "execution_count": null,
      "metadata": {
        "id": "OTo--amkp_pr",
        "colab": {
          "base_uri": "https://localhost:8080/",
          "height": 295
        },
        "outputId": "b68b1a7e-b716-439c-a3d4-9a4d7cba78ef"
      },
      "outputs": [
        {
          "output_type": "display_data",
          "data": {
            "text/plain": [
              "<Figure size 432x288 with 1 Axes>"
            ],
            "image/png": "[encoded data removed]"
          },
          "metadata": {
            "needs_background": "light"
          }
        }
      ],
      "source": [
        "fi_data = np.load('/content/drive/My Drive/Colab Notebooks/9.40/psets/PSET 2/fi_data.npz')\n",
        "amps = fi_data['amps']\n",
        "rate = fi_data['rate']\n",
        "\n",
        "plt.plot(amps, rate), plt.xlabel('Injected Current Amplitude (pA)'), plt.ylabel('Firing Rate (Hz)'), plt.title('f-I Curve')\n",
        "plt.show()\n"
      ]
    },
    {
      "cell_type": "markdown",
      "metadata": {
        "id": "MmquVvV9p_pr"
      },
      "source": [
        "## Question 1.10:\n",
        "\n",
        "From the previous plot, estimate $C_m$.\n",
        "\n",
        "\n"
      ]
    },
    {
      "cell_type": "markdown",
      "metadata": {
        "id": "UtpqOVPkhRYu"
      },
      "source": [
        "Answer: Cm is approximately 0.2 nF.\n",
        "\n",
        "\n",
        ".\n",
        "\n"
      ]
    },
    {
      "cell_type": "markdown",
      "metadata": {
        "id": "rhkxQB5slssZ"
      },
      "source": [
        "\n",
        "\n",
        "---\n",
        "\n",
        "---\n",
        "\n",
        "\n",
        "\n"
      ]
    },
    {
      "cell_type": "markdown",
      "metadata": {
        "id": "_-H9OHPZp_ps"
      },
      "source": [
        "# Problem 2: Numerical simulation of an LIF neuron\n",
        "\n",
        "In the previous problem you estimated the 5 parameters that control the behavior of an LIF neuron. In this problem, your job is to write code to implement an LIF neuron model with **those parameters**. This will give you an opportunity to verify your parameter estimates. \n",
        "\n",
        "You may find code from problem 2 in PSET 1 hepful. Don’t forget to include a variable to keep track of the spike times. It might be a good idea to wrap this code in a function\n",
        "with the following calling syntax:\n",
        "\n",
        ".\n",
        "\n",
        "\\>\\> $(V,I,t,spike\\_times) = LIFneuron(amp)$\n",
        "\n",
        "\n",
        "\n",
        "\n",
        ".\n",
        "\n",
        "\n",
        "\n"
      ]
    },
    {
      "cell_type": "markdown",
      "metadata": {
        "id": "2AusjKjptheP"
      },
      "source": [
        "Start by writing the function LIFneuron():\n",
        "\n",
        "\n",
        "\n",
        "\n"
      ]
    },
    {
      "cell_type": "code",
      "execution_count": null,
      "metadata": {
        "id": "BRwDaLxhvEgc"
      },
      "outputs": [],
      "source": [
        "def LIFneuron(amp):\n",
        "    # LIFneuron: Simulates an LIFneuron for 1 second.\n",
        "    #\n",
        "    # Input argument:\n",
        "    # amp: current amplitude in nanoamperes (nA)\n",
        "    #\n",
        "    # Outputs:\n",
        "    # V: membrane potental in mV\n",
        "    # I: Current pulse in nA\n",
        "    # t: time in msec\n",
        "    # spikeCounts: number of spikes fired.\n",
        "\n",
        "    V_threshold = -50                         # mV\n",
        "    V_reset = -70                            # mV\n",
        "    E_L = -75                               # mv\n",
        "    R = 100                                 # MOhm\n",
        "    C = 0.1                                 # nF\n",
        "    \n",
        "    tau = R*C # msec\n",
        "    dt = 0.1 # msec\n",
        "    t = np.arange(0,1000.1,dt) # msec\n",
        "    num_iter = t.size\n",
        "    V = np.empty(num_iter) # mV\n",
        "    V[0] = V_reset # mV\n",
        "    I = np.zeros(num_iter)\n",
        "    I[np.logical_and(t>=200, t<=700)] = amp # nA\n",
        "    spike_times = np.empty(0)\n",
        "    \n",
        "    \n",
        "    for idx in range(1, num_iter):\n",
        "        dV = dt/tau * (E_L - V[idx-1] + R*I[idx-1])\n",
        "        V[idx] = V[idx-1] + dV\n",
        "        \n",
        "        if V[idx] >= V_threshold:\n",
        "            V[idx] = V_reset\n",
        "            spike_times = np.append(spike_times, t[idx])\n",
        "    \n",
        "    return (V, I, t, spike_times)\n",
        "  "
      ]
    },
    {
      "cell_type": "markdown",
      "metadata": {
        "id": "seLPxONnhpUY"
      },
      "source": [
        "## Question 2.1:\n",
        "\n",
        "Plot the $f-I$ curve of this neuron, where f is the firing rate.\n",
        "\n",
        "\n",
        ".\n",
        "\n",
        ".\n",
        "\n",
        "\n",
        "Hint: In addition to the function LIFneuron(), the functions  **np.diff()**  and **np.divide()** may be helpful for this question.\n",
        "\n",
        "For examples, check it out here: https://www.geeksforgeeks.org/numpy-diff-in-python/\n",
        "\n"
      ]
    },
    {
      "cell_type": "code",
      "execution_count": null,
      "metadata": {
        "id": "iy-1vTd4p_pt",
        "colab": {
          "base_uri": "https://localhost:8080/",
          "height": 279
        },
        "outputId": "f8edf4de-c178-4fc9-b7de-58008c9fa61f"
      },
      "outputs": [
        {
          "output_type": "display_data",
          "data": {
            "text/plain": [
              "<Figure size 432x288 with 1 Axes>"
            ],
            "image/png": "[encoded data removed]"
          },
          "metadata": {
            "needs_background": "light"
          }
        }
      ],
      "source": [
        "amps_0 = fi_data['amps']\n",
        "rate_0 = fi_data['rate']\n",
        "# range of input current amplitudes to test\n",
        "amps = np.linspace(0, .5, 100)\n",
        "\n",
        "# firing rate for each input current amplitude\n",
        "firing_rates = []\n",
        "for amp in amps:\n",
        "    # simulate neuron\n",
        "    V, I, t, spike_times = LIFneuron(amp)\n",
        "    # calculate firing rate\n",
        "    num_spikes = len(spike_times)\n",
        "    duration = t[-1] - t[0]\n",
        "    firing_rate = num_spikes / duration * 1000  # convert to Hz\n",
        "    firing_rates.append(firing_rate)\n",
        "\n",
        "# plot f-I curve\n",
        "plt.plot(amps, firing_rates, label = 'Neuron Problem 2')\n",
        "plt.plot(amps_0, rate_0, label = 'Neuron Problem 1')\n",
        "plt.legend()\n",
        "plt.xlabel('Input current amplitude (nA)')\n",
        "plt.ylabel('Firing rate (Hz)')\n",
        "plt.show()\n",
        "\n",
        "\n",
        "\n",
        "\n"
      ]
    },
    {
      "cell_type": "markdown",
      "metadata": {
        "id": "u-gaDX6Vp_pt"
      },
      "source": [
        "## Question 2.2\n",
        "\n",
        "On the previous plot overlay the f-I curve obtained in problem 1 question 8. Comment on any similarities or discrepancies between the two curves.\n",
        "\n",
        "\n",
        "\n"
      ]
    },
    {
      "cell_type": "markdown",
      "metadata": {
        "id": "shi9os8LerEp"
      },
      "source": [
        "Answer:\n",
        "\n",
        "The two graphs are identical. They display the same information about the firing rate as a function of the current amplitude.\n"
      ]
    },
    {
      "cell_type": "markdown",
      "metadata": {
        "id": "Dev7SjPclws_"
      },
      "source": [
        "\n",
        "\n",
        "---\n",
        "\n",
        "---\n",
        "\n",
        "\n",
        "\n"
      ]
    },
    {
      "cell_type": "markdown",
      "metadata": {
        "id": "L4p1wejHp_pu"
      },
      "source": [
        "# **Problem 3: The role of sodium channel inactivation on the refractory period            in the Hodgkin-Huxley model**\n",
        "\n",
        "\n",
        "The gating variables, $m, h$ and $n_I$, obey this  first order linear differential equation:\n",
        "\n",
        "\\begin{equation}\n",
        "\\tau_x (V) \\frac{dx}{dt} = x_\\infty (V) - x,\\tag{3.1}\n",
        "\\end{equation}\n",
        "where $x$ is an index to reflect any of those gating variables. It is important to notice that the time constant and steady state value depend on the membrane potential:\n",
        "\\begin{eqnarray}\n",
        "\\tau_x (V) & = & \\frac{1}{\\alpha_x (V) + \\beta_x (V)} \\tag{3.2}\\\\\n",
        "x_\\infty & = & \\frac{\\alpha_x (V)}{\\alpha_x (V) + \\beta_x (V)} \\tag{3.3}\n",
        "\\end{eqnarray}\n",
        "\n",
        "The voltage dependency is through the rate constants $\\alpha_x$ and $\\beta_x$  which have the following mathematical expressions:\n",
        "\n",
        "\\begin{eqnarray}\n",
        "\\alpha_h &=& 0.07 \\exp(-0.05(V+70)) & , \\hspace{0.2in} & \\beta_h &=& \\frac{1}{1 + \\exp(-0.1(V+40))}\\\\\n",
        "\\alpha_m & = & \\frac{0.1(V+45)}{1-\\exp(-0.1(V+45))} &, \\hspace{0.2in} & \\beta_m & =& 4 \\exp ( -0.0556(V+70)) \\\\\n",
        "\\alpha_n & = & \\frac{0.01(V+60)}{1-\\exp(-0.1(V+60))} &, \\hspace{0.2in} & \\beta_n & = & 0.125 \\exp((-0.0125(V+70))\n",
        "\\tag{3.4}\n",
        "\\end{eqnarray}\n",
        "\n",
        "In these formulae the membrane potential is in mV and the rate constants in ms${}^{-1}$.\n",
        "\n",
        "These 6 functions are implemented below.\n",
        "\n",
        "\n",
        "The script **HH.py** in the same folder implements a simulation of a Hodgkin-Huxley neuron under a current clamp experiment. Current clamp means that we control the external current applied and measure the membrane potential in response to our manipulation. Note that this is different from voltage clamp in which we control the membrane potential and measure the ionic current. \n",
        "In particular, this script is set to apply a depolarizing external current of $10 \\mu A/cm^2$ for 10 milliseconds. If you run this file you will see three plots: the membrane potential as a function of time, the external current applied as a function of time, and the gating variables as a function of time.\n",
        "\n",
        "\n",
        "Your job is to use these functions and make modifications as instructed to study the role of sodium channel inactivation and its effect on the refractory period.\n"
      ]
    },
    {
      "cell_type": "markdown",
      "metadata": {
        "id": "pfm0JfB7p_pu"
      },
      "source": [
        "## Question 3.1\n",
        "\n",
        "1.\tMake a figure with 2 panels. On one panel plot the steady state of the inactivation gating variables $h_\\infty$ as a function of membrane potential. On the other panel plot the time constant of inactivation $\\tau_h$ as a function of membrane potential. Restrict your plot to the range $-100$ to $100 \\; mV$. \n",
        "\n",
        "\n",
        "$$ h_\\infty = \\frac{\\alpha_h(V)}{\\alpha_h(V) + \\beta_h(V)} $$\n",
        "\n",
        "\n",
        "\n",
        "\n",
        "\n",
        "---\n",
        "\n"
      ]
    },
    {
      "cell_type": "markdown",
      "metadata": {
        "id": "NVSbAFaxwKJl"
      },
      "source": [
        "\n",
        "\n",
        "\n",
        "\n",
        "---\n",
        "\n",
        "---\n",
        "\n",
        "\n",
        "\n",
        "\n",
        "\n",
        "First, we provide you with the parameters in the HH model in the functions below. These functions are incomplete. You will have to add anything that is missing\n",
        "\n"
      ]
    },
    {
      "cell_type": "code",
      "execution_count": null,
      "metadata": {
        "id": "-wUl9HDDwbS4"
      },
      "outputs": [],
      "source": [
        "def alpha_h(V, gain=1):\n",
        "    # input: membrane potential in mV\n",
        "    # output: rate constant in ms^-1\n",
        "    return gain * 0.07 * np.exp(-0.05*(V+70))\n",
        "\n",
        "def alpha_m(V):\n",
        "    # input: membrane potential in mV\n",
        "    # output: rate constant in ms^-1  \n",
        "    return (0.1*(V+45))/(1-np.exp(-0.1*(V+45)))\n",
        "    \n",
        "def alpha_n(V):\n",
        "    # input: membrane potential in mV\n",
        "    # output: rate constant in ms^-1\n",
        "    return (0.01*(V+60))/(1-np.exp(-0.1*(V+60)))\n",
        "\n",
        "def beta_h(V):\n",
        "    # input: membrane potential in mV\n",
        "    # output: rate constant in ms^-1\n",
        "    return 1/(1+np.exp(-0.1*(V+40)))\n",
        "    \n",
        "def beta_m(V):\n",
        "    # input: membrane potential in mV\n",
        "    # output: rate constant in ms^-1   \n",
        "    return 4* np.exp(-0.0556*(V+70))\n",
        "\n",
        "def beta_n(V):\n",
        "    # input: membrane potential in mV\n",
        "    # output: rate constant in ms^-1   \n",
        "    return 0.125* np.exp(-0.0125*(V+70))\n",
        "\n",
        "def h_inf(V, gain = 1):\n",
        "    # input: membrane potential in mV\n",
        "    # output: steady state of h\n",
        "    alpha = alpha_h(V, gain)\n",
        "    beta = beta_h(V)\n",
        "    h_inf = alpha / (alpha + beta)\n",
        "    return h_inf\n",
        "\n",
        "def tau_h_original(V, gain = 1):\n",
        "    # input: membrane potential in mV\n",
        "    # output: time constant of h in ms^-1\n",
        "    alpha = alpha_h(V, gain)\n",
        "    beta = beta_h(V)\n",
        "    tau_h = 1 / (alpha + beta)\n",
        "\n",
        "    return tau_h"
      ]
    },
    {
      "cell_type": "code",
      "execution_count": null,
      "metadata": {
        "colab": {
          "base_uri": "https://localhost:8080/",
          "height": 297
        },
        "id": "HNvoAchip_pu",
        "outputId": "0bcf1f9d-f16d-47aa-a352-c61cc8c56e14"
      },
      "outputs": [
        {
          "output_type": "display_data",
          "data": {
            "text/plain": [
              "<Figure size 864x288 with 2 Axes>"
            ],
            "image/png": "[encoded data removed]"
          },
          "metadata": {
            "needs_background": "light"
          }
        }
      ],
      "source": [
        "\n",
        "# your two plots should go here\n",
        "V = np.linspace(-100, 100, 1000)\n",
        "\n",
        "\n",
        "# panel 1: h_inf vs V\n",
        "fig, (ax1, ax2) = plt.subplots(1, 2, figsize=(12, 4))\n",
        "ax1.plot(V, h_inf(V))\n",
        "ax1.set_xlabel('Membrane potential (mV)')\n",
        "ax1.set_ylabel('h_inf')\n",
        "\n",
        "# panel 2: tau_h vs V\n",
        "ax2.plot(V, tau_h_original(V))\n",
        "ax2.set_xlabel('Membrane potential (mV)')\n",
        "ax2.set_ylabel('tau_h (ms)')\n",
        "\n",
        "plt.tight_layout()\n",
        "plt.show()\n",
        "\n",
        "\n"
      ]
    },
    {
      "cell_type": "markdown",
      "metadata": {
        "id": "1tIlQ0zNp_pu"
      },
      "source": [
        "## Question 3.2\n",
        "\n",
        "Next make a copy of **HH.py** and call it **hh_paired**. Modify this function so that it applies two current pulses, each of amplitude $3 \\mu A/cm2$ and a duration of $10\\; milliseconds$. The pulses should have an inter-pulse interval of $10\\; milliseconds$.  That is they are separated by 10 milliseconds measured from end of first pulse to the start of second pulse. Look at the plots and comment on what you see.\n",
        "\n",
        "</br>\n",
        "\n",
        "**Note**: if you face issues with the parameters (e.g., $\\alpha_n$) because their denominators vanish, you may try to use l'hospital rule to avoid any infinities."
      ]
    },
    {
      "cell_type": "code",
      "execution_count": null,
      "metadata": {
        "id": "RErMQ_yuyt9M",
        "colab": {
          "base_uri": "https://localhost:8080/",
          "height": 279
        },
        "outputId": "076ec57a-fc55-478e-fb7c-c52976daddcd"
      },
      "outputs": [
        {
          "output_type": "display_data",
          "data": {
            "text/plain": [
              "<Figure size 432x288 with 3 Axes>"
            ],
            "image/png": "[encoded data removed]"
          },
          "metadata": {
            "needs_background": "light"
          }
        }
      ],
      "source": [
        "import numpy as np\n",
        "import matplotlib.pyplot as plt\n",
        "import math\n",
        "# import hh_functions as \n",
        "# Hodgkin Huxley model \n",
        "# Numerically integrated with an Exponential Euler Scheme \n",
        "\n",
        "#Units:\n",
        "#voltage is in millivolts (mV)\n",
        "#current is in microamperes (uA)\n",
        "#capacitance is in microfarads (uF)\n",
        "#conductance is in millisiemens (mS)\n",
        "#area is in centimeters squared (cm^2)\n",
        "#time is in milliseconds (ms)\n",
        "\n",
        "# Area of cell\n",
        "A = 1 #cm^2\n",
        "#membrane capacitance per unit area:\n",
        "C = 1.0      # (uF/cm^2)\n",
        "#max possible Na+ conductance per unit area:\n",
        "gNabar = 120 # (mS/cm^2)\n",
        "#max possible K+ conductance per unit area:\n",
        "gKbar = 36   # (mS/cm^2)\n",
        "#leakage conductance per unit area:\n",
        "gLbar = 0.3  # (mS/cm^2)\n",
        "#Na+ equilibrium potential:\n",
        "ENa = 45   #   (mV)\n",
        "#K+ equilibrium potential:\n",
        "EK = -82   #   (mV)\n",
        "#leakage channel reversal potential:\n",
        "EL = -59   #   (mV)\n",
        "\n",
        "#initialize time step and experiment duration:\n",
        "dt = 0.1     # time step duration (ms)\n",
        "t_max = 100    #duration of experiment (ms)\n",
        "\n",
        "#total number of time steps in the experiment:\n",
        "n_iter = math.ceil(t_max/dt)\n",
        "\n",
        "#initialize arrays that hold data for plotting:\n",
        "m_plot = np.zeros(n_iter)\n",
        "h_plot = np.zeros(n_iter)\n",
        "n_plot = np.zeros(n_iter)\n",
        "H_plot = np.zeros(n_iter)\n",
        "V_plot = np.zeros(n_iter)\n",
        "t_plot = np.arange(0,n_iter)*dt # time vector in ms\n",
        "\n",
        "#voltage just at t=0: initial condition\n",
        "V_start = -70\n",
        "V_plot[0] = V_start\n",
        "# In fact we are assuming V was at -70 before experiment to set m,h,n to \n",
        "# their steady state values at -70\n",
        "\n",
        "# minf, hinf, ninf at -70  for initial condition\n",
        "m_plot[0] = alpha_m(V_plot[0])/(alpha_m(V_plot[0])+beta_m(V_plot[0]))\n",
        "h_plot[0] = alpha_h(V_plot[0])/(alpha_h(V_plot[0])+beta_h(V_plot[0]))\n",
        "n_plot[0] = alpha_n(V_plot[0])/(alpha_n(V_plot[0])+beta_n(V_plot[0]))\n",
        "H_plot[0] = alpha_h(V_plot[0], gain =2)/(alpha_h(V_plot[0], gain =2)+beta_h(V_plot[0]))\n",
        "\n",
        "# Current injected\n",
        "I_e = np.zeros(n_iter)\n",
        "# square pulse of current starts at 30 ms and ends at 40 ms\n",
        "I_e[np.logical_and(t_plot>= 30, t_plot<= 40)] = 10 # (uA/cm^2)\n",
        "\n",
        "# Main for loop to numerically integrate the HH model \n",
        "for k in range(n_iter-1):\n",
        "  # taus for m,h,n\n",
        "    tau_m = 1 /(alpha_m(V_plot[k])+beta_m(V_plot[k]))\n",
        "    tau_h = 1 /(alpha_h(V_plot[k])+beta_h(V_plot[k]))\n",
        "    tau_n = 1 /(alpha_n(V_plot[k])+beta_n(V_plot[k]))\n",
        "    tau_H = 1 /(alpha_h(V_plot[k], gain = 2)+beta_h(V_plot[k]))\n",
        "  \n",
        "  # Steady state values for m, h, n\n",
        "    m_inf = alpha_m(V_plot[k])/(alpha_m(V_plot[k])+beta_m(V_plot[k]))\n",
        "    h_inf = alpha_h(V_plot[k])/(alpha_h(V_plot[k])+beta_h(V_plot[k]))\n",
        "    n_inf = alpha_n(V_plot[k])/(alpha_n(V_plot[k])+beta_n(V_plot[k]))  \n",
        "    H_inf = alpha_h(V_plot[k], gain =2)/(alpha_h(V_plot[k], gain =2)+beta_h(V_plot[k]))\n",
        "  \n",
        "  # Update m, h, and n using the Exponential-Euler method\n",
        "    m_plot[k+1] = m_inf+(m_plot[k]-m_inf)*np.exp(-dt/tau_m)\n",
        "    h_plot[k+1] = h_inf+(h_plot[k]-h_inf)*np.exp(-dt/tau_h)\n",
        "    n_plot[k+1] = n_inf+(n_plot[k]-n_inf)*np.exp(-dt/tau_n)\n",
        "    H_plot[k+1] = H_inf+(H_plot[k]-H_inf)*np.exp(-dt/tau_H)\n",
        "  \n",
        "  # Update conductances\n",
        "    gNa = gNabar*(m_plot[k+1]**3)*h_plot[k+1]    #sodium conductance\n",
        "    gK = gKbar*(n_plot[k+1]**4)                  #potassium conductance\n",
        "    g = gNa+gK+gLbar                            #total conductance\n",
        "    gE = gNa*ENa+gK*EK+gLbar*EL                 #gE=g*E\n",
        "    \n",
        "  # update vinf\n",
        "    V_inf = (gE + I_e[k]/A) / g\n",
        "  # update tauv\n",
        "    tau_V = C/g\n",
        "  # exponential euler for updating membrane potential\n",
        "    V_plot[k+1] = V_inf + (V_plot[k]-V_inf)*np.exp(-dt/tau_V);\n",
        "\n",
        "\n",
        "figHH, axHH = plt.subplots(3,1)\n",
        "\n",
        "\n",
        "axHH[0].plot(t_plot, V_plot, linewidth=2, label='Vm'); \n",
        "axHH[0].set(ylim=(-110, 40), ylabel='V_m (mV)')\n",
        "axHH[0].legend()\n",
        "\n",
        "axHH[1].plot(t_plot,I_e,linewidth=2)\n",
        "axHH[1].set(ylabel='I_e (\\muA/cm^2)')\n",
        "\n",
        "axHH[2].plot(t_plot, m_plot, linewidth=2, label='m')\n",
        "axHH[2].plot(t_plot, h_plot, linewidth=2, label='h')\n",
        "axHH[2].plot(t_plot, n_plot, linewidth=2, label='n')\n",
        "axHH[2].set(xlabel='time(msec)')\n",
        "axHH[2].legend()\n",
        "\n",
        "plt.show()\n",
        "# figHH.savefig(\"hhPlot.png\")mlm"
      ]
    },
    {
      "cell_type": "markdown",
      "metadata": {
        "id": "f803rwvmv3ON"
      },
      "source": [
        "**Note the hh_paired function takes 3 arguments: amp = current amplitude, interpulse interval and gain.\n"
      ]
    },
    {
      "cell_type": "markdown",
      "metadata": {
        "id": "0X-tIFEGp_pv"
      },
      "source": [
        "## Question 3.3\n",
        "\n",
        "Modify the code so that the inter-pulse interval is now 2 milliseconds but keeping the amplitude at $3 \\mu A/cm^2$. Look at the output plots, what has changed from the previous case?  What is the role of the inactivation gating variable in this behavior?   \n",
        "\n"
      ]
    },
    {
      "cell_type": "code",
      "source": [
        "import numpy as np\n",
        "import matplotlib.pyplot as plt\n",
        "import math\n",
        "# import hh_functions as \n",
        "# Hodgkin Huxley model \n",
        "# Numerically integrated with an Exponential Euler Scheme \n",
        "\n",
        "#Units:\n",
        "#voltage is in millivolts (mV)\n",
        "#current is in microamperes (uA)\n",
        "#capacitance is in microfarads (uF)\n",
        "#conductance is in millisiemens (mS)\n",
        "#area is in centimeters squared (cm^2)\n",
        "#time is in milliseconds (ms)\n",
        "\n",
        "# Area of cell\n",
        "A = 1 #cm^2\n",
        "#membrane capacitance per unit area:\n",
        "C = 1.0      # (uF/cm^2)\n",
        "#max possible Na+ conductance per unit area:\n",
        "gNabar = 120 # (mS/cm^2)\n",
        "#max possible K+ conductance per unit area:\n",
        "gKbar = 36   # (mS/cm^2)\n",
        "#leakage conductance per unit area:\n",
        "gLbar = 0.3  # (mS/cm^2)\n",
        "#Na+ equilibrium potential:\n",
        "ENa = 45   #   (mV)\n",
        "#K+ equilibrium potential:\n",
        "EK = -82   #   (mV)\n",
        "#leakage channel reversal potential:\n",
        "EL = -59   #   (mV)\n",
        "\n",
        "#initialize time step and experiment duration:\n",
        "dt = 0.1     # time step duration (ms)\n",
        "t_max = 100    #duration of experiment (ms)\n",
        "\n",
        "#total number of time steps in the experiment:\n",
        "n_iter = math.ceil(t_max/dt)\n",
        "\n",
        "#initialize arrays that hold data for plotting:\n",
        "m_plot = np.zeros(n_iter)\n",
        "h_plot = np.zeros(n_iter)\n",
        "n_plot = np.zeros(n_iter)\n",
        "V_plot = np.zeros(n_iter)\n",
        "t_plot = np.arange(0,n_iter)*dt # time vector in ms\n",
        "\n",
        "#voltage just at t=0: initial condition\n",
        "V_start = -70\n",
        "V_plot[0] = V_start\n",
        "# In fact we are assuming V was at -70 before experiment to set m,h,n to \n",
        "# their steady state values at -70\n",
        "\n",
        "# minf, hinf, ninf at -70  for initial condition\n",
        "m_plot[0] = alpha_m(V_plot[0])/(alpha_m(V_plot[0])+beta_m(V_plot[0]))\n",
        "h_plot[0] = alpha_h(V_plot[0])/(alpha_h(V_plot[0])+beta_h(V_plot[0]))\n",
        "n_plot[0] = alpha_n(V_plot[0])/(alpha_n(V_plot[0])+beta_n(V_plot[0]))\n",
        "\n",
        "# Current injected\n",
        "I_e = np.zeros(n_iter)\n",
        "# square pulse of current starts at 30 ms and ends at 40 ms\n",
        "I_e[np.logical_and(t_plot>= 30, t_plot<= 40)] = 2 # (uA/cm^2)\n",
        "\n",
        "# Main for loop to numerically integrate the HH model \n",
        "for k in range(n_iter-1):\n",
        "  # taus for m,h,n\n",
        "    tau_m = 1 /(alpha_m(V_plot[k])+beta_m(V_plot[k]))\n",
        "    tau_h = 1 /(alpha_h(V_plot[k])+beta_h(V_plot[k]))\n",
        "    tau_n = 1 /(alpha_n(V_plot[k])+beta_n(V_plot[k]))\n",
        "  \n",
        "  # Steady state values for m, h, n\n",
        "    m_inf = alpha_m(V_plot[k])/(alpha_m(V_plot[k])+beta_m(V_plot[k]))\n",
        "    h_inf = alpha_h(V_plot[k])/(alpha_h(V_plot[k])+beta_h(V_plot[k]))\n",
        "    n_inf = alpha_n(V_plot[k])/(alpha_n(V_plot[k])+beta_n(V_plot[k]))  \n",
        "  \n",
        "  # Update m, h, and n using the Exponential-Euler method\n",
        "    m_plot[k+1] = m_inf+(m_plot[k]-m_inf)*np.exp(-dt/tau_m)\n",
        "    h_plot[k+1] = h_inf+(h_plot[k]-h_inf)*np.exp(-dt/tau_h)\n",
        "    n_plot[k+1] = n_inf+(n_plot[k]-n_inf)*np.exp(-dt/tau_n)\n",
        "  \n",
        "  # Update conductances\n",
        "    gNa = gNabar*(m_plot[k+1]**3)*h_plot[k+1]    #sodium conductance\n",
        "    gK = gKbar*(n_plot[k+1]**4)                  #potassium conductance\n",
        "    g = gNa+gK+gLbar                            #total conductance\n",
        "    gE = gNa*ENa+gK*EK+gLbar*EL                 #gE=g*E\n",
        "    \n",
        "  # update vinf\n",
        "    V_inf = (gE + I_e[k]/A) / g\n",
        "  # update tauv\n",
        "    tau_V = C/g\n",
        "  # exponential euler for updating membrane potential\n",
        "    V_plot[k+1] = V_inf + (V_plot[k]-V_inf)*np.exp(-dt/tau_V);\n",
        "\n",
        "\n",
        "figHH, axHH = plt.subplots(3,1)\n",
        "\n",
        "\n",
        "axHH[0].plot(t_plot, V_plot, linewidth=2, label='Vm'); \n",
        "axHH[0].set(ylim=(-110, 40), ylabel='V_m (mV)')\n",
        "axHH[0].legend()\n",
        "\n",
        "axHH[1].plot(t_plot,I_e,linewidth=2)\n",
        "axHH[1].set(ylabel='I_e (\\muA/cm^2)')\n",
        "\n",
        "axHH[2].plot(t_plot, m_plot, linewidth=2, label='m')\n",
        "axHH[2].plot(t_plot, h_plot, linewidth=2, label='h')\n",
        "axHH[2].plot(t_plot, n_plot, linewidth=2, label='n')\n",
        "axHH[2].set(xlabel='time(msec)')\n",
        "axHH[2].legend()\n",
        "\n",
        "plt.show()\n",
        "figHH.savefig(\"hhPlot.png\")"
      ],
      "metadata": {
        "colab": {
          "base_uri": "https://localhost:8080/",
          "height": 279
        },
        "id": "Ek3hRr0T3Y8e",
        "outputId": "ff1d5b18-9e10-40c3-b51f-e6e94280c535"
      },
      "execution_count": null,
      "outputs": [
        {
          "output_type": "display_data",
          "data": {
            "text/plain": [
              "<Figure size 432x288 with 3 Axes>"
            ],
            "image/png": "[encoded data removed]"
          },
          "metadata": {
            "needs_background": "light"
          }
        }
      ]
    },
    {
      "cell_type": "markdown",
      "metadata": {
        "id": "0qseXwVkp_pv"
      },
      "source": [
        "Answer: From the previous plot, it is clear that the voltage in the first plot did not see the spiking that it did in the first plot for a 10ms interval. In addition, the third plot showing the gating variables do not spike nearly as hard as they did in the third plot of the interval of 10ms. The role of the inactivation gating variable here is that during the second injected current, h seems to have a slight depression to it indicating a reduction in the opening of the sodium channels and therefore reduced depolarization. This results in the neuron not having an action potential.\n",
        "\n",
        "\n",
        ".\n",
        "\n"
      ]
    },
    {
      "cell_type": "markdown",
      "metadata": {
        "id": "3CEFe1CPp_pw"
      },
      "source": [
        "## Question 3.4\n",
        "\n",
        "Double the value of the rate, $alpha\\_h$ for all values of membrane potential. In a single plot overlay the $h_\\infty$ versus membrane potential curves for the original and modified version. What is the effect of this change in $\\alpha_h$ on $h_\\infty$?\n",
        "\n",
        "Note: You need to change the gain in the function $alpha\\_h$ to double the rate.\n",
        "\n"
      ]
    },
    {
      "cell_type": "markdown",
      "metadata": {
        "id": "nzhRcTihp_pw"
      },
      "source": [
        "Answer: Increasing the alpha_h value by a factor of 2 increases the value of h_inf. This essentially means that you are increasing the rate at which h is opened while while not changing the rate at which h is closed. This will shift the equilibrium value towards the greater h.\n",
        ".\n",
        "\n"
      ]
    },
    {
      "cell_type": "code",
      "source": [
        "v = np.linspace(-100, 100, 1000)\n",
        "V = np.linspace(-100, 100, 1000)\n",
        "\n",
        "fig, ax1 = plt.subplots()\n",
        "plt.title(\"h_inf versus membrane potential\")\n",
        "ax1.plot(v, h_inf(V), label = 'Original')\n",
        "ax1.plot(v, h_inf(V, gain = 2), label = 'Modified')\n",
        "plt.title(\"h_inf versus membrane potential\")\n",
        "ax1.set_xlabel('Membrane potential (mV)')\n",
        "plt.legend()\n",
        "ax1.set_ylabel('h_inf')"
      ],
      "metadata": {
        "colab": {
          "base_uri": "https://localhost:8080/",
          "height": 313
        },
        "id": "4mhfou7h6O6K",
        "outputId": "e932c108-b45d-4d19-c1b4-8f26e96e98e0"
      },
      "execution_count": null,
      "outputs": [
        {
          "output_type": "execute_result",
          "data": {
            "text/plain": [
              "Text(0, 0.5, 'h_inf')"
            ]
          },
          "metadata": {},
          "execution_count": 41
        },
        {
          "output_type": "display_data",
          "data": {
            "text/plain": [
              "<Figure size 432x288 with 1 Axes>"
            ],
            "image/png": "[encoded data removed]"
          },
          "metadata": {
            "needs_background": "light"
          }
        }
      ]
    },
    {
      "cell_type": "markdown",
      "metadata": {
        "id": "VhGIH_eOp_px"
      },
      "source": [
        "## Question 3.5\n",
        "\n",
        "In a single plot overlay the $\\tau_h$ versus membrane potential curves for the original and modified version. What is the effect of this change in $\\alpha_h$ on $\\tau_h$?\n"
      ]
    },
    {
      "cell_type": "code",
      "execution_count": null,
      "metadata": {
        "id": "63EeUVThp_px",
        "colab": {
          "base_uri": "https://localhost:8080/",
          "height": 295
        },
        "outputId": "01322f21-b391-4e7a-db19-02a83854d589"
      },
      "outputs": [
        {
          "output_type": "display_data",
          "data": {
            "text/plain": [
              "<Figure size 432x288 with 1 Axes>"
            ],
            "image/png": "[encoded data removed]"
          },
          "metadata": {
            "needs_background": "light"
          }
        }
      ],
      "source": [
        "v = np.linspace(-100, 100, 1000)\n",
        "\n",
        "tau_h = tau_h_original(v)\n",
        "tau_h_mod = tau_h_modified(v)\n",
        "\n",
        "\n",
        "fig, ax = plt.subplots()\n",
        "ax.plot(v, tau_h, label='Original')\n",
        "ax.plot(v, tau_h_mod, label='Modified')\n",
        "ax.set_xlabel('Membrane Potential (mV)')\n",
        "ax.set_ylabel('tau_h (ms)')\n",
        "plt.title(\"tau_h vs Membrane Potential\")\n",
        "ax.legend()\n",
        "\n",
        "\n",
        "plt.show()\n",
        "\n"
      ]
    },
    {
      "cell_type": "markdown",
      "metadata": {
        "id": "tCLm_mBdp_px"
      },
      "source": [
        "Answer: Increasing alpha_h by a factor of 2 results in a decreased time constant tau_h. This is because alpha_h is a rate constant which means that increasing its value will increase how quickly h reaches equlibrium. The faster that h can come to equlibrium, the lower the time constant will be.\n",
        "\n",
        "\n",
        ".\n",
        "\n",
        "\n",
        "\n",
        "\n"
      ]
    },
    {
      "cell_type": "markdown",
      "metadata": {
        "id": "WiwXOWIx0aZr"
      },
      "source": [
        "## Question 3.6\n",
        "\n",
        "Redo question 3 but using the  doubled alpha_h. Comment on the changes you see. Relate this to the sodium channel disorders discussed in lecture. "
      ]
    },
    {
      "cell_type": "code",
      "execution_count": null,
      "metadata": {
        "id": "FWimE1aNZfra",
        "colab": {
          "base_uri": "https://localhost:8080/",
          "height": 279
        },
        "outputId": "8a3034ae-f524-42db-9e05-386ebe107d34"
      },
      "outputs": [
        {
          "output_type": "display_data",
          "data": {
            "text/plain": [
              "<Figure size 432x288 with 3 Axes>"
            ],
            "image/png": "[encoded data removed]"
          },
          "metadata": {
            "needs_background": "light"
          }
        }
      ],
      "source": [
        "import numpy as np\n",
        "import matplotlib.pyplot as plt\n",
        "import math\n",
        "# import hh_functions as \n",
        "# Hodgkin Huxley model \n",
        "# Numerically integrated with an Exponential Euler Scheme \n",
        "\n",
        "#Units:\n",
        "#voltage is in millivolts (mV)\n",
        "#current is in microamperes (uA)\n",
        "#capacitance is in microfarads (uF)\n",
        "#conductance is in millisiemens (mS)\n",
        "#area is in centimeters squared (cm^2)\n",
        "#time is in milliseconds (ms)\n",
        "\n",
        "# Area of cell\n",
        "A = 1 #cm^2\n",
        "#membrane capacitance per unit area:\n",
        "C = 1.0      # (uF/cm^2)\n",
        "#max possible Na+ conductance per unit area:\n",
        "gNabar = 120 # (mS/cm^2)\n",
        "#max possible K+ conductance per unit area:\n",
        "gKbar = 36   # (mS/cm^2)\n",
        "#leakage conductance per unit area:\n",
        "gLbar = 0.3  # (mS/cm^2)\n",
        "#Na+ equilibrium potential:\n",
        "ENa = 45   #   (mV)\n",
        "#K+ equilibrium potential:\n",
        "EK = -82   #   (mV)\n",
        "#leakage channel reversal potential:\n",
        "EL = -59   #   (mV)\n",
        "\n",
        "#initialize time step and experiment duration:\n",
        "dt = 0.1     # time step duration (ms)\n",
        "t_max = 100    #duration of experiment (ms)\n",
        "\n",
        "#total number of time steps in the experiment:\n",
        "n_iter = math.ceil(t_max/dt)\n",
        "\n",
        "#initialize arrays that hold data for plotting:\n",
        "m_plot = np.zeros(n_iter)\n",
        "h_plot = np.zeros(n_iter)\n",
        "n_plot = np.zeros(n_iter)\n",
        "H_plot = np.zeros(n_iter)\n",
        "V_plot = np.zeros(n_iter)\n",
        "t_plot = np.arange(0,n_iter)*dt # time vector in ms\n",
        "\n",
        "#voltage just at t=0: initial condition\n",
        "V_start = -70\n",
        "V_plot[0] = V_start\n",
        "# In fact we are assuming V was at -70 before experiment to set m,h,n to \n",
        "# their steady state values at -70\n",
        "\n",
        "# minf, hinf, ninf at -70  for initial condition\n",
        "m_plot[0] = alpha_m(V_plot[0])/(alpha_m(V_plot[0])+beta_m(V_plot[0]))\n",
        "h_plot[0] = alpha_h(V_plot[0])/(alpha_h(V_plot[0])+beta_h(V_plot[0]))\n",
        "n_plot[0] = alpha_n(V_plot[0])/(alpha_n(V_plot[0])+beta_n(V_plot[0]))\n",
        "H_plot[0] = alpha_h(V_plot[0], gain =2)/(alpha_h(V_plot[0], gain =2)+beta_h(V_plot[0]))\n",
        "\n",
        "# Current injected\n",
        "I_e = np.zeros(n_iter)\n",
        "# square pulse of current starts at 30 ms and ends at 40 ms\n",
        "I_e[np.logical_and(t_plot>= 30, t_plot<= 40)] = 10 # (uA/cm^2)\n",
        "I_e[np.logical_and(t_plot>= 42, t_plot<= 52)] = 10\n",
        "\n",
        "# Main for loop to numerically integrate the HH model \n",
        "for k in range(n_iter-1):\n",
        "  # taus for m,h,n\n",
        "    tau_m = 1 /(alpha_m(V_plot[k])+beta_m(V_plot[k]))\n",
        "    tau_h = 1 /(alpha_h(V_plot[k])+beta_h(V_plot[k]))\n",
        "    tau_n = 1 /(alpha_n(V_plot[k])+beta_n(V_plot[k]))\n",
        "    tau_H = 1 /(alpha_h(V_plot[k], gain = 2)+beta_h(V_plot[k]))\n",
        "  \n",
        "  # Steady state values for m, h, n\n",
        "    m_inf = alpha_m(V_plot[k])/(alpha_m(V_plot[k])+beta_m(V_plot[k]))\n",
        "    h_inf = alpha_h(V_plot[k])/(alpha_h(V_plot[k])+beta_h(V_plot[k]))\n",
        "    n_inf = alpha_n(V_plot[k])/(alpha_n(V_plot[k])+beta_n(V_plot[k]))  \n",
        "    H_inf = alpha_h(V_plot[k], gain =2)/(alpha_h(V_plot[k], gain =2)+beta_h(V_plot[k]))\n",
        "  \n",
        "  # Update m, h, and n using the Exponential-Euler method\n",
        "    m_plot[k+1] = m_inf+(m_plot[k]-m_inf)*np.exp(-dt/tau_m)\n",
        "    h_plot[k+1] = h_inf+(h_plot[k]-h_inf)*np.exp(-dt/tau_h)\n",
        "    n_plot[k+1] = n_inf+(n_plot[k]-n_inf)*np.exp(-dt/tau_n)\n",
        "    H_plot[k+1] = H_inf+(H_plot[k]-H_inf)*np.exp(-dt/tau_H)\n",
        "  \n",
        "  # Update conductances\n",
        "    gNa = gNabar*(m_plot[k+1]**3)*h_plot[k+1]    #sodium conductance\n",
        "    gK = gKbar*(n_plot[k+1]**4)                  #potassium conductance\n",
        "    g = gNa+gK+gLbar                            #total conductance\n",
        "    gE = gNa*ENa+gK*EK+gLbar*EL                 #gE=g*E\n",
        "    \n",
        "  # update vinf\n",
        "    V_inf = (gE + I_e[k]/A) / g\n",
        "  # update tauv\n",
        "    tau_V = C/g\n",
        "  # exponential euler for updating membrane potential\n",
        "    V_plot[k+1] = V_inf + (V_plot[k]-V_inf)*np.exp(-dt/tau_V);\n",
        "\n",
        "\n",
        "figHH, axHH = plt.subplots(3,1)\n",
        "\n",
        "\n",
        "axHH[0].plot(t_plot, V_plot, linewidth=2, label='Vm'); \n",
        "axHH[0].set(ylim=(-110, 40), ylabel='V_m (mV)')\n",
        "axHH[0].legend()\n",
        "\n",
        "axHH[1].plot(t_plot,I_e,linewidth=2)\n",
        "axHH[1].set(ylabel='I_e (\\muA/cm^2)')\n",
        "\n",
        "axHH[2].plot(t_plot, m_plot, linewidth=2, label='m')\n",
        "axHH[2].plot(t_plot, H_plot, linewidth=2, label='h')\n",
        "axHH[2].plot(t_plot, n_plot, linewidth=2, label='n')\n",
        "axHH[2].set(xlabel='time(msec)')\n",
        "axHH[2].legend()\n",
        "\n",
        "plt.show()\n",
        "# figHH.savefig(\"hhPlot.png\")mlm"
      ]
    },
    {
      "cell_type": "markdown",
      "metadata": {
        "id": "xAzze-a10aFN"
      },
      "source": [
        "Answer: Overall, increasing the value of alpha_h results in a faster rate of opening the h-gates in the sodium channel. There is a faster increase in membrane potential and a shorter action potential as a result of the sodium channel activating faster. \n",
        "\n",
        "Sodium channel disorders including mutations lead to inactivation of the channels and symptoms including paralysis. This example is not an accurate representation of the disorders referred to in class since this channel has the ability to inactivate. \n",
        "\n"
      ]
    },
    {
      "cell_type": "markdown",
      "metadata": {
        "id": "SCtTKqefl1WI"
      },
      "source": [
        "\n",
        "\n",
        "---\n",
        "\n",
        "---\n",
        "\n",
        "\n",
        "\n"
      ]
    },
    {
      "cell_type": "markdown",
      "metadata": {
        "id": "vasF39iKp_px"
      },
      "source": [
        "# Problem 4: Hyperpolarization can excite neurons \n",
        "\n",
        "In this problem we want to study the effects of prolonged hyperpolarization on the behavior of the Hodgkin-Huxley model. In order to do so, add a function called **hh_hyper()**. This function should be a modified copy of HH.py. Modify this code such as to deliver a square pulse of current that starts a 10 ms and finishes at a 100 ms. Set the amplitude to -10 microamperes/cm2. Simulate for 150 ms total.\n",
        "\n",
        "\n",
        ".\n",
        "\n",
        "First, you will need to finish writing the function hh_hyper():\n",
        "\n",
        "\n",
        "\n"
      ]
    },
    {
      "cell_type": "code",
      "execution_count": null,
      "metadata": {
        "id": "ahlcx7bw1gOZ"
      },
      "outputs": [],
      "source": [
        "def hh_hyper():\n",
        "    #Units:\n",
        "    #voltage is in millivolts (mV)\n",
        "    #current is in microamperes (uA)\n",
        "    #capacitance is in microfarads (uF)\n",
        "    #conductance is in millisiemens (mS)\n",
        "    #area is in centimeters squared (cm^2)\n",
        "    #time is in milliseconds (ms)\n",
        "\n",
        "    # Area of cell\n",
        "    A = 1 #cm^2\n",
        "    #membrane capacitance per unit area:\n",
        "    C = 1.0      # (uF/cm^2)\n",
        "    #max possible Na+ conductance per unit area:\n",
        "    gNabar = 120 # (mS/cm^2)\n",
        "    #max possible K+ conductance per unit area:\n",
        "    gKbar = 36   # (mS/cm^2)\n",
        "    #leakage conductance per unit area:\n",
        "    gLbar = 0.3  # (mS/cm^2)\n",
        "    #Na+ equilibrium potential:\n",
        "    ENa = 45   #   (mV)\n",
        "    #K+ equilibrium potential:\n",
        "    EK = -82   #   (mV)\n",
        "    #leakage channel reversal potential:\n",
        "    EL = -59   #   (mV)\n",
        "\n",
        "    #initialize time step and experiment duration:\n",
        "    dt = 0.1     # time step duration (ms)\n",
        "    t_max = 150    #duration of experiment (ms)\n",
        "\n",
        "    #total number of time steps in the experiment:\n",
        "    n_iter = math.ceil(t_max/dt)\n",
        "\n",
        "    #initialize arrays that hold data for plotting:\n",
        "    m_plot = np.zeros(n_iter)\n",
        "    h_plot = np.zeros(n_iter)\n",
        "    n_plot = np.zeros(n_iter)\n",
        "    H_plot = np.zeros(n_iter)\n",
        "    V_plot = np.zeros(n_iter)\n",
        "    t_plot = np.arange(0,n_iter)*dt # time vector in ms\n",
        "\n",
        "\n",
        "\n",
        "    # minf, hinf, ninf at -70  for initial condition\n",
        "    m_plot[0] = alpha_m(V_plot[0])/(alpha_m(V_plot[0])+beta_m(V_plot[0]))\n",
        "    h_plot[0] = alpha_h(V_plot[0])/(alpha_h(V_plot[0])+beta_h(V_plot[0]))\n",
        "    n_plot[0] = alpha_n(V_plot[0])/(alpha_n(V_plot[0])+beta_n(V_plot[0]))\n",
        "    H_plot[0] = alpha_h(V_plot[0], gain =2)/(alpha_h(V_plot[0], gain =2)+beta_h(V_plot[0]))\n",
        "\n",
        "    # Current injected\n",
        "    I_e = np.zeros(n_iter)\n",
        "    # square pulse of current starts at 10 ms and ends at 100 ms\n",
        "    I_e[np.logical_and(t_plot>= 10, t_plot<= 100)] = -10 # (uA/cm^2)\n",
        "\n",
        "    # Main for loop to numerically integrate the HH model \n",
        "    for k in range(n_iter-1):\n",
        "      # taus for m,h,n\n",
        "        tau_m = 1 /(alpha_m(V_plot[k])+beta_m(V_plot[k]))\n",
        "        tau_h = 1 /(alpha_h(V_plot[k])+beta_h(V_plot[k]))\n",
        "        tau_n = 1 /(alpha_n(V_plot[k])+beta_n(V_plot[k]))\n",
        "        tau_H = 1 /(alpha_h(V_plot[k], gain = 2)+beta_h(V_plot[k]))\n",
        "      \n",
        "      # Steady state values for m, h, n\n",
        "        m_inf = alpha_m(V_plot[k])/(alpha_m(V_plot[k])+beta_m(V_plot[k]))\n",
        "        h_inf = alpha_h(V_plot[k])/(alpha_h(V_plot[k])+beta_h(V_plot[k]))\n",
        "        n_inf = alpha_n(V_plot[k])/(alpha_n(V_plot[k])+beta_n(V_plot[k]))  \n",
        "        H_inf = alpha_h(V_plot[k], gain =2)/(alpha_h(V_plot[k], gain =2)+beta_h(V_plot[k]))\n",
        "      \n",
        "      # Update m, h, and n using the Exponential-Euler method\n",
        "        m_plot[k+1] = m_inf+(m_plot[k]-m_inf)*np.exp(-dt/tau_m)\n",
        "        h_plot[k+1] = h_inf+(h_plot[k]-h_inf)*np.exp(-dt/tau_h)\n",
        "        n_plot[k+1] = n_inf+(n_plot[k]-n_inf)*np.exp(-dt/tau_n)\n",
        "        H_plot[k+1] = H_inf+(H_plot[k]-H_inf)*np.exp(-dt/tau_H)\n",
        "      \n",
        "      # Update conductances\n",
        "        gNa = gNabar*(m_plot[k+1]**3)*h_plot[k+1]    #sodium conductance\n",
        "        gK = gKbar*(n_plot[k+1]**4)                  #potassium conductance\n",
        "        g = gNa+gK+gLbar                            #total conductance\n",
        "        gE = gNa*ENa+gK*EK+gLbar*EL                 #gE=g*E\n",
        "        \n",
        "      # update vinf\n",
        "        V_inf = (gE + I_e[k]/A) / g\n",
        "      # update tauv\n",
        "        tau_V = C/g\n",
        "      # exponential euler for updating membrane potential\n",
        "        V_plot[k+1] = V_inf + (V_plot[k]-V_inf)*np.exp(-dt/tau_V);\n",
        "\n",
        "\n",
        "    figHH, axHH = plt.subplots(3,1)\n",
        "\n",
        "\n",
        "    axHH[0].plot(t_plot, V_plot, linewidth=2, label='Vm'); \n",
        "    axHH[0].set(ylim=(-110, 40), ylabel='V_m (mV)')\n",
        "    axHH[0].legend()\n",
        "\n",
        "    axHH[1].plot(t_plot,I_e,linewidth=2)\n",
        "    axHH[1].set(ylabel='I_e (\\muA/cm^2)')\n",
        "\n",
        "    axHH[2].plot(t_plot, m_plot, linewidth=2, label='m')\n",
        "    axHH[2].plot(t_plot, h_plot, linewidth=2, label='h')\n",
        "    axHH[2].plot(t_plot, n_plot, linewidth=2, label='n')\n",
        "    axHH[2].set(xlabel='time(msec)')\n",
        "    axHH[2].legend()\n",
        "\n",
        "    plt.show()\n",
        "    # figHH.savefig(\"hhPlot.png\")mlm\n",
        "\n",
        "      "
      ]
    },
    {
      "cell_type": "markdown",
      "metadata": {
        "id": "OmfwNPyx1CAM"
      },
      "source": [
        "## Question 4.1:\n",
        "\n",
        "Plot V, m, h and n as functions of time. You will see the neuron spiking at the end of the simulation"
      ]
    },
    {
      "cell_type": "code",
      "execution_count": null,
      "metadata": {
        "id": "Val5O4gabCX8",
        "colab": {
          "base_uri": "https://localhost:8080/",
          "height": 279
        },
        "outputId": "c772bb16-a11c-46a5-e5d9-4cc1cc89bc83"
      },
      "outputs": [
        {
          "output_type": "display_data",
          "data": {
            "text/plain": [
              "<Figure size 432x288 with 3 Axes>"
            ],
            "image/png": "[encoded data removed]"
          },
          "metadata": {
            "needs_background": "light"
          }
        }
      ],
      "source": [
        "\n",
        "# run the simulation\n",
        "hh_hyper()\n"
      ]
    },
    {
      "cell_type": "markdown",
      "metadata": {
        "id": "A8TtzJ571n4s"
      },
      "source": [
        "## Question 4.2:\n",
        "\n",
        "In a few sentences provide a rationale for why this is happening. Construct your argument in terms of the gating variables m, h and n. \n",
        "\n",
        ".\n",
        "\n",
        "Hint: It will be helpful to consider the time scales involved in the inactivation of the gating variables (problem 3). "
      ]
    },
    {
      "cell_type": "markdown",
      "metadata": {
        "id": "TU2f_lUAp_px"
      },
      "source": [
        "Answer: Removing the current from the cell for a long period of time results in the gating variables m and n to approach 0 and h to approach 1. After the current is introduced back into the cell, m and n both rapidly increase/spike causing depolarization where sodium current into the cell increases.\n"
      ]
    },
    {
      "cell_type": "markdown",
      "metadata": {
        "id": "SnNFfErDp_py"
      },
      "source": [
        "## Question 4.3:\n",
        "\n",
        "3.\tIn a few sentences discuss whether (and why or why not) a leaky integrate and fire neuron can exhibit this behavior.\n",
        "\n"
      ]
    },
    {
      "cell_type": "markdown",
      "metadata": {
        "id": "gGL6ssJY1-Vj"
      },
      "source": [
        "Answer:\n",
        "\n",
        "A leaky integrate and fire neuron can exhibit this behavior because for there to be a spike, the voltage threshhold must be surpassed by Vinfinity. The equilibrium potential of the system will be equal to Vinfinity when the current goes to zero. That value is less than that of the voltage threshold so a spike will not occur.\n",
        "\n",
        "\n"
      ]
    }
  ],
  "metadata": {
    "colab": {
      "provenance": [],
      "include_colab_link": true
    },
    "kernelspec": {
      "display_name": "Python 3",
      "language": "python",
      "name": "python3"
    },
    "language_info": {
      "codemirror_mode": {
        "name": "ipython",
        "version": 3
      },
      "file_extension": ".py",
      "mimetype": "text/x-python",
      "name": "python",
      "nbconvert_exporter": "python",
      "pygments_lexer": "ipython3",
      "version": "3.7.4"
    }
  },
  "nbformat": 4,
  "nbformat_minor": 0
}