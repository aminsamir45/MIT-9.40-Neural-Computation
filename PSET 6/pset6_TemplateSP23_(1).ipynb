{
  "nbformat": 4,
  "nbformat_minor": 0,
  "metadata": {
    "colab": {
      "provenance": [],
      "include_colab_link": true
    },
    "kernelspec": {
      "name": "python3",
      "display_name": "Python 3"
    },
    "language_info": {
      "name": "python"
    }
  },
  "cells": [
    {
      "cell_type": "markdown",
      "metadata": {
        "id": "view-in-github",
        "colab_type": "text"
      },
      "source": [
        "<a href=\"https://colab.research.google.com/github/aminsamir45/MIT-9.40-Neural-Computation/blob/main/PSET%206/pset6_TemplateSP23_(1).ipynb\" target=\"_parent\"><img src=\"https://colab.research.google.com/assets/colab-badge.svg\" alt=\"Open In Colab\"/></a>"
      ]
    },
    {
      "cell_type": "markdown",
      "metadata": {
        "id": "mMZdHI0-Iicg"
      },
      "source": [
        "# PSET 6\n",
        "\n",
        "April 15\n",
        "\n",
        "# Due April 29, 2023 (Saturday)\n",
        "\n",
        "\n",
        "\n",
        "\n",
        "\n",
        "---\n",
        "\n",
        "\n",
        "\n",
        "---\n",
        "\n",
        "\n",
        "\n",
        "---\n",
        "\n"
      ]
    },
    {
      "cell_type": "markdown",
      "metadata": {
        "id": "FrftCLthInES"
      },
      "source": [
        "# NAME:\n",
        "\n",
        "#gmail: \n",
        "\n",
        "\n",
        "\n",
        "\n",
        "---\n",
        "\n",
        "\n",
        "\n",
        "---\n",
        "\n",
        "\n",
        "\n",
        "---\n",
        "\n"
      ]
    },
    {
      "cell_type": "markdown",
      "metadata": {
        "id": "NsIexTRJIu6s"
      },
      "source": [
        "# Learning objectives and goals:\n",
        "\n",
        "In the first half of this problem set, we will build a perceptron neural network that performs binary classification. We will derive the weight vector for the perceptron in two ways: via analytical work, and by performing numerical simulations in Python that implement the perceptron learning and weights update rule.\n",
        "\n",
        ".\n",
        "\n",
        "\n",
        "In the second half of this problem, we will use Principal Component Analysis to reduce dimensionality of a relatively large neuronal data set. We will use this dimensionality reduction to generate meaningful visualization of the data set, and also to build a crude and rudimentary decoder for neuronal activity.\n",
        "\n",
        ".\n",
        "\n",
        "\n",
        "The topics of this PSET are covered in lectures 13-15.\n",
        "\n",
        ".\n",
        "\n",
        "\n",
        "These two problems are a great way to put all the linear algebra we have learned so far to work. They are also helpful in emphasizing the two roles that matrices play: to represent and to transform data. By the end of this PSET, you should be familiar with:\n",
        "\n",
        "\n",
        "\n",
        "*   Dot products, unit vectors, matrix multiplication and change of basis.\n",
        "*   Performing linear transformations such as rotations and scaling.\n",
        "*   Implementing the perceptron algorithm in Python.\n",
        "*   Perform mean subtraction, construct covariance matrices and compute eigenvectors and eigenvalues in Python.\n",
        "*   Use Principal Component Analysis to find the directions of maximum variance of a given dataset.\n",
        "*   Use Principal Component Analysis to perform a change of basis and generate novel data visualizations.\n",
        "\n",
        "\n",
        "\n",
        "\n",
        "\n"
      ]
    },
    {
      "cell_type": "markdown",
      "metadata": {
        "id": "NXOWEXUiNWDj"
      },
      "source": [
        "\n",
        "**New Python Functions**\n",
        "\n",
        "\n",
        "\n",
        "*   $numpy.matlib.repmat$ :  Replicate and tile array (repeat copies of an array)\n",
        "*   $numpy.linalg.eig$  :    Compute the eigenvectors and eigenvalues of a matrix\n",
        "\n",
        "\n",
        "\n",
        "\n",
        "---\n",
        "\n",
        "\n",
        "\n"
      ]
    },
    {
      "cell_type": "code",
      "metadata": {
        "id": "UCUMGGvTZDCI"
      },
      "source": [
        "import numpy as np\n",
        "import numpy.matlib as npm                   # needed for repmat()\n",
        "import matplotlib.pyplot as plt\n",
        "import random\n",
        "import copy\n",
        "\n"
      ],
      "execution_count": null,
      "outputs": []
    },
    {
      "cell_type": "code",
      "metadata": {
        "id": "c88tsf6HZLrQ",
        "outputId": "14907671-9881-4d58-a2fe-928474f3a6b6",
        "colab": {
          "base_uri": "https://localhost:8080/",
          "height": 217
        }
      },
      "source": [
        "from google.colab import drive\n",
        "\n",
        "drive.mount('/content/drive')\n",
        "\n",
        "import os \n",
        "\n",
        "# Set your working directory to a folder in your Google Drive. This way, if your notebook times out,\n",
        "# your files will be saved in your Google Drive!\n",
        "\n",
        "# the base Google Drive directory\n",
        "root_dir = \"/content/drive/My Drive/\"\n",
        "\n",
        "# choose where you want your project files to be saved\n",
        "project_folder = \"Colab Notebooks/bcs940/...........\"\n",
        "\n",
        "# check if your project folder exists. if not, it will be created.\n",
        "#if os.path.isdir(root_dir + project_folder) == False:\n",
        "#  os.mkdir(root_dir + project_folder)\n",
        "#  print(root_dir + project_folder + ' did not exist but was created.')\n",
        "\n",
        "# change the OS to use your project folder as the working directory\n",
        "os.chdir(root_dir + project_folder)"
      ],
      "execution_count": null,
      "outputs": [
        {
          "output_type": "stream",
          "name": "stdout",
          "text": [
            "Mounted at /content/drive\n"
          ]
        },
        {
          "output_type": "error",
          "ename": "FileNotFoundError",
          "evalue": "ignored",
          "traceback": [
            "\u001b[0;31m---------------------------------------------------------------------------\u001b[0m",
            "\u001b[0;31mFileNotFoundError\u001b[0m                         Traceback (most recent call last)",
            "\u001b[0;32m<ipython-input-2-3b6c581e2949>\u001b[0m in \u001b[0;36m<cell line: 22>\u001b[0;34m()\u001b[0m\n\u001b[1;32m     20\u001b[0m \u001b[0;34m\u001b[0m\u001b[0m\n\u001b[1;32m     21\u001b[0m \u001b[0;31m# change the OS to use your project folder as the working directory\u001b[0m\u001b[0;34m\u001b[0m\u001b[0;34m\u001b[0m\u001b[0m\n\u001b[0;32m---> 22\u001b[0;31m \u001b[0mos\u001b[0m\u001b[0;34m.\u001b[0m\u001b[0mchdir\u001b[0m\u001b[0;34m(\u001b[0m\u001b[0mroot_dir\u001b[0m \u001b[0;34m+\u001b[0m \u001b[0mproject_folder\u001b[0m\u001b[0;34m)\u001b[0m\u001b[0;34m\u001b[0m\u001b[0;34m\u001b[0m\u001b[0m\n\u001b[0m",
            "\u001b[0;31mFileNotFoundError\u001b[0m: [Errno 2] No such file or directory: '/content/drive/My Drive/Colab Notebooks/bcs940/...........'"
          ]
        }
      ]
    },
    {
      "cell_type": "markdown",
      "metadata": {
        "id": "kIvjhozhN5jw"
      },
      "source": [
        "# PROBLEM 1: Neural Networks and Linear Algebra\n",
        "\n",
        "We will use this exercise to start gaining insight on how feed-forward neural networks transform input data. In class, we discussed modeling a network of neurons where each input neuron has a firing rate and specified synaptic weights onto a set of output neurons. Such a network can perform matrix multiplications. To get us warmed up we will start with a simple question.\n",
        "\n"
      ]
    },
    {
      "cell_type": "markdown",
      "metadata": {
        "id": "s1OUvhsHOWS2"
      },
      "source": [
        "## 1.1\n",
        "\n",
        "Construct a feed-forward neural network with 2 input neurons and 2 output neurons that performs a 60 degrees counter-clockwise rotation in 2D space. Sketch this network and write the weight matrix.\n",
        "\n",
        "\n",
        "\n",
        "$$W = \\begin{bmatrix}\n",
        "W_{11} & W_{12} \\\\\n",
        "W_{21} & W_{22}\n",
        "\\end{bmatrix}$$\n",
        "\n",
        "\n",
        "\n",
        "\n"
      ]
    },
    {
      "cell_type": "markdown",
      "metadata": {
        "id": "W4-Qpp3JZ8I_"
      },
      "source": [
        "**ANSWER**\n",
        "\n",
        "\n",
        "\n",
        ".\n",
        "\n",
        "\n",
        "\n",
        ".\n",
        "\n",
        "\n",
        "\n",
        "\n",
        "\n",
        "\n",
        "\n",
        "\n"
      ]
    },
    {
      "cell_type": "markdown",
      "source": [
        "[paste your graph here]"
      ],
      "metadata": {
        "id": "IJe-yEFeN0T4"
      }
    },
    {
      "cell_type": "markdown",
      "metadata": {
        "id": "CzLDGAUyQb5k"
      },
      "source": [
        "# PROBLEM 2: The Perceptron Learning Algorithm\n",
        "\n",
        "\n",
        "In this exercise, you will build neural networks that do not transform their inputs, but that are capable of performing binary classification. To illustrate the principle behind the perceptron learning algorithm, you will construct a neural network that classifies stimuli into two categories. The perceptron receives two inputs, which represent two stimulus features. The stimuli are plotted below in this 2D feature-space, colored according to their category. Your perceptron should fire for stimuli in the blue category and not for stimuli in the red category with $\\theta = 1$.\n",
        "\n",
        "\n",
        "\n"
      ]
    },
    {
      "cell_type": "code",
      "source": [
        "# generate two Gaussian blobs\n",
        "\n",
        "rsv = np.random.RandomState(940000)  # fix random seed\n",
        "\n",
        "x1 = rsv.multivariate_normal([0,0],[[1,0],[0,1]], size = 1000).T  # centered at (0,0)\n",
        "x2 = rsv.multivariate_normal([5,4],[[1,0],[0,1]], size = 1000).T   # centered at (5,4)\n",
        "\n",
        "fig, ax =plt.subplots()\n",
        "ax.scatter(x1[0],x1[1],  marker = 'o', facecolors='none', edgecolors='r')\n",
        "ax.scatter(x2[0],x2[1],  marker='o',facecolors='none', edgecolors='b')\n",
        "ax.set_ylim(-4, 12)\n",
        "ax.set_xlim(-4,10)\n",
        "plt.grid()\n",
        "ax.set_aspect('equal')\n",
        "\n",
        "\n",
        "# QUESTION 2.1\n",
        "# set a boundary  (approximate)\n",
        "# write the equation for the boundary and plot it\n",
        "\n",
        "# add your code here\n",
        "\n",
        "# plot weight vector from your boundary equation\n",
        "\n",
        "# add your code here\n"
      ],
      "metadata": {
        "id": "T8kMCHffw3NW"
      },
      "execution_count": null,
      "outputs": []
    },
    {
      "cell_type": "markdown",
      "metadata": {
        "id": "FEzlBiVsQyjC"
      },
      "source": [
        "##2.1\n",
        "\n",
        "On the above plot, draw a decision boundary and a weight vector that would distinguish the two categories.\n",
        "\n",
        "<br>\n",
        "\n",
        "Use the code provided above"
      ]
    },
    {
      "cell_type": "markdown",
      "metadata": {
        "id": "eNb-xUy4S4jP"
      },
      "source": [
        "**ANSWER**"
      ]
    },
    {
      "cell_type": "markdown",
      "metadata": {
        "id": "zN5wWQscczBs"
      },
      "source": [
        "\n",
        "\n",
        "---\n",
        "\n",
        "\n",
        "\n",
        "\n",
        "---\n",
        "\n",
        "\n"
      ]
    },
    {
      "cell_type": "markdown",
      "metadata": {
        "id": "4s0CZWhpQ7fl"
      },
      "source": [
        "## 2.2\n",
        "\n",
        "Draw a diagram of your perceptron and its inputs. Find the weights and label your diagram accordingly. Use standard binary threshold units as described in class, with outputs 0 or 1 and a threshold θ=1.\n",
        "\n"
      ]
    },
    {
      "cell_type": "markdown",
      "metadata": {
        "id": "ZpSkGihhSyfF"
      },
      "source": [
        "**ANSWER**\n"
      ]
    },
    {
      "cell_type": "markdown",
      "metadata": {
        "id": "-YZ4nPPRPoQL"
      },
      "source": [
        "\n",
        "\n",
        "---\n",
        "\n",
        "\n",
        ".\n",
        "\n",
        "---\n",
        "\n"
      ]
    },
    {
      "cell_type": "markdown",
      "metadata": {
        "id": "yiT1L6kiSDBj"
      },
      "source": [
        "Figure. Perceptron that fires for blue blobs"
      ]
    },
    {
      "cell_type": "markdown",
      "source": [
        "[paste figure here]"
      ],
      "metadata": {
        "id": "rIIwuJ-ePhDn"
      }
    },
    {
      "cell_type": "markdown",
      "metadata": {
        "id": "0-xIQOJaRDyh"
      },
      "source": [
        "## 2.3\n",
        "\n",
        "In this case, you were able to compute the weights by hand. But in higher dimensions, with more complicated inputs, that can be impossible. We will now implement the perceptron-learning algorithm, which automatically determines the weights by starting from a random guess and updating that guess whenever it makes an error.\n",
        "\n",
        "\n",
        "\n",
        "*   The code provided below implements the perceptron-learning algorithm for the example above. The blue category has label 1 and the red category has label 0. The main for-loop is incomplete. Your job is to complete it, with help from the comments in the code.\n",
        "\n",
        "\n",
        "*   Pay attention to the learning rate parameter $eta$. Try different values between 0.001 and 0.01, and choose the best that converges to the best result.\n",
        "\n",
        "\n",
        "*   Once completed, the file should plot the original points and the final decision boundary.\n",
        "\n",
        "\n",
        "\n"
      ]
    },
    {
      "cell_type": "code",
      "source": [
        "N1 = 1000                                 # num samples set 1\n",
        "N2 = 1000                                 # num samples set 2 \n",
        "N = N1 + N2"
      ],
      "metadata": {
        "id": "rBIhpqu2_9XU"
      },
      "execution_count": null,
      "outputs": []
    },
    {
      "cell_type": "code",
      "metadata": {
        "id": "6zkFnnrNZd31"
      },
      "source": [
        "# label the data set\n",
        "T1 = np.zeros(N1)\n",
        "T2 = np.ones(N2)\n",
        "\n",
        "T = np.hstack((T1,T2))      # true values 1 (orange),   0\n",
        "x = np.hstack((x1,x2))\n",
        "\n",
        "\n",
        "fig1, ax1 = plt.subplots(figsize=(4,4))\n",
        "ax1.scatter(x1[0], x1[1])\n",
        "ax1.scatter(x2[0], x2[1])\n",
        "\n",
        "np.random.seed(42)             # do not change the seed\n",
        "j = np.random.permutation(np.arange(0,N,1))\n",
        "T = T[j]                                  # shuffle data for streaming\n",
        "x = x[:,j]\n",
        "\n",
        "theta = 1                                 # threshold\n",
        "eta = 0.01                                # learning rate  NEED TO FIND BEST VALUE\n",
        "\n",
        "\n",
        "# initialize weight vector\n",
        "\n",
        "w = np.array([1,1]) \n",
        "\n",
        "\n",
        "for idx in range(N):\n",
        "    # follow instructions to complete for-loop. You'll be implementing (w.x -theta) \n",
        "      \n",
        "    # project the ith data point onto w and compute the output of the\n",
        "    # perceptron: wx - theta\n",
        "    output = '.....................'\n",
        "\n",
        "\n",
        "    # compute the update (delta w) to the weight vector under these two\n",
        "    # conditions:\n",
        "    # if the classification was correct: do nothing\n",
        "    # if the classification was incorrect: shift w \n",
        "    \n",
        "    # FIND update\n",
        "\n",
        "    # add your code here for update\n",
        "    \n",
        "    w = w + update\n",
        "\n",
        "print('Weight Vector = ', w)\n",
        "\n",
        "\n",
        "# Your code to add  the decision boundary to figure (1) goes here\n",
        "# draw boundary in green\n",
        "\n",
        "..............\n",
        "\n",
        "\n",
        "ax1.plot(X,Y, c='g')\n",
        "ax1.grid()\n",
        "\n",
        "\n",
        "\n",
        "\n",
        "\n",
        "\n"
      ],
      "execution_count": null,
      "outputs": []
    },
    {
      "cell_type": "markdown",
      "metadata": {
        "id": "_dtY57bDRanI"
      },
      "source": [
        "## 2.4\n",
        "\n",
        "How do the automatically determined weights compare to the weights you derived by hand?\n",
        "\n",
        ".\n",
        "\n"
      ]
    },
    {
      "cell_type": "markdown",
      "metadata": {
        "id": "XGmohbIBia_8"
      },
      "source": [
        "**ANSWER**\n",
        "\n"
      ]
    },
    {
      "cell_type": "code",
      "metadata": {
        "id": "hinvSrICihB1"
      },
      "source": [
        "print(\"w = \",w)"
      ],
      "execution_count": null,
      "outputs": []
    },
    {
      "cell_type": "markdown",
      "metadata": {
        "id": "VXFWbQMsRlpS"
      },
      "source": [
        "# PROBLEM 3: Combining Multiple Perceptrons\n",
        "\n",
        "\n",
        "The following figure illustrates a binary classification problem that cannot be solved with a single perceptron.\n",
        "\n"
      ]
    },
    {
      "cell_type": "code",
      "source": [
        "yL = np.random.rand(100)\n",
        "xL1 = -1 - 3*np. random.rand(50) \n",
        "xL2 = 2 +  4*np. random.rand(50) \n",
        "xM =  3*np.random.rand(100) -1\n",
        "\n",
        "\n",
        "fig, ax = plt.subplots()\n",
        "ax.scatter(xL1, yL[0:50], c='b')\n",
        "ax.scatter(xL2, yL[50:], c ='b')\n",
        "ax.scatter(xM, yL, c ='r')\n",
        "ax.set_xticks(np.arange(-4,6)),\n",
        "ax.grid()"
      ],
      "metadata": {
        "id": "r7MI74TbkkON"
      },
      "execution_count": null,
      "outputs": []
    },
    {
      "cell_type": "markdown",
      "metadata": {
        "id": "5Z8w1TL6STdz"
      },
      "source": [
        "## 3.1\n",
        "\n",
        "Why is this problem not solvable by a single perceptron?\n"
      ]
    },
    {
      "cell_type": "markdown",
      "metadata": {
        "id": "A257jhlQvGRi"
      },
      "source": [
        "**ANSWER**\n",
        "\n",
        "There is no way to draw a single line to divide the blue dots from the red dots.\n"
      ]
    },
    {
      "cell_type": "markdown",
      "metadata": {
        "id": "AkUzDyKcSb6_"
      },
      "source": [
        "## 3.2\n",
        "\n",
        "Find, draw, and label properly a multilayer perceptron that correctly classifies the blue dots and the red dots. Use binary threshold units as described in class, with outputs 0 or 1 and a threshold θ=1. Make the neurons fire if blue.\n",
        "\n",
        ".\n",
        "\n",
        "\n"
      ]
    },
    {
      "cell_type": "markdown",
      "metadata": {
        "id": "U6VNJKHhJdY5"
      },
      "source": [
        "**ANSWERS**\n",
        "\n",
        "\n",
        "\n",
        ".\n",
        "\n",
        "\n"
      ]
    },
    {
      "cell_type": "code",
      "source": [
        "# drawing boundaries and add them to the graph given above (use display (fig))\n",
        "\n",
        "# add code here\n",
        "\n",
        "display(fig)"
      ],
      "metadata": {
        "id": "XQ5eo0ymv0QN"
      },
      "execution_count": null,
      "outputs": []
    },
    {
      "cell_type": "markdown",
      "source": [
        "[paste your network here]"
      ],
      "metadata": {
        "id": "BUSWbqOQTKr-"
      }
    },
    {
      "cell_type": "markdown",
      "metadata": {
        "id": "ueHeH_p7JMjf"
      },
      "source": [
        "\n",
        ".\n",
        "\n"
      ]
    },
    {
      "cell_type": "markdown",
      "source": [
        "\n",
        "\n",
        "---\n",
        "\n",
        "\n",
        "\n",
        "---\n",
        "\n"
      ],
      "metadata": {
        "id": "WMtFVg1qTUkY"
      }
    },
    {
      "cell_type": "markdown",
      "metadata": {
        "id": "obLMAOrTS03Q"
      },
      "source": [
        "# PROBLEM 4: Reducing Dimensionality of Motor Cortex Activity During a Reaching Task\n",
        "\n",
        "\n",
        "In this problem, we will use PCA to visualize the activity of a large population of neurons recorded in macaque motor cortex during a center-out reaching task. Based on the results of the PCA, we will design an algorithm that could control a simple prosthetic arm to move according to the monkey’s motor cortex commands. The data were collected in Nicho Hatsopolous’s lab at University of Chicago, and are contained in the file $ReachData.mat$.\n",
        "\n",
        "\n",
        ".\n",
        "\n",
        "\n",
        "\n",
        "The matrix R contains the firing rate of each of 143 neurons for a total of 158 trials. The vector direction specifies the reach direction for each of the 158 trials. Direction 1 corresponds to a rightward reach (0 degrees), direction 2 to 45 degrees, direction 3 to 90 degrees (straight up), etc, with direction 8 corresponding to 315 degrees. Think about the orientation of the matrix R before you proceed. If needed, transpose R to flip the rows and columns.\n",
        "\n",
        ".\n",
        "\n",
        "**HINT:**\n",
        "\n",
        "your lecture notes and recitation has most of the code you'll need for this problem."
      ]
    },
    {
      "cell_type": "code",
      "metadata": {
        "id": "KUqbDA_a95KI"
      },
      "source": [
        "from scipy.io import loadmat\n",
        "import numpy.linalg as npl\n",
        "\n",
        "\n",
        "Data = loadmat(\"ReachData.mat\")\n",
        "direction = Data[\"direction\"]\n",
        "\n",
        "X = Data[\"R\"]               # contains firing rate of 143 neurons for a total of 158 trials\n",
        "\n",
        "print(direction.shape)      # each trial has a direction in steps of 45 degress, 158 entries \n"
      ],
      "execution_count": null,
      "outputs": []
    },
    {
      "cell_type": "markdown",
      "metadata": {
        "id": "NtyeHa4RTVNH"
      },
      "source": [
        "## 4.1\n",
        "\n",
        "Center the data from each neuron by subtracting off the average firing rate of that neuron, using numpy.matlib.repmat. \n",
        "\n",
        ".\n",
        "\n",
        "Why do we do this before performing PCA? \n",
        "\n",
        "\n",
        "<br>\n",
        "\n",
        "Hint: think about, in 2D, what goes wrong if you perform PCA on a cloud of data that is not centered at 0. This is discussed in recitation and lecture notes.\n",
        "\n"
      ]
    },
    {
      "cell_type": "code",
      "metadata": {
        "id": "UU21UuEO-El_"
      },
      "source": [
        "neuron = X.shape[0]                              # first element of shape is number of neurons, 143 \n",
        "trials = X.shape[1]                              # second element is num trials, 158\n",
        "\n",
        "mu = np.mean(X,axis=1)                           #  143 dim. horiz.  vector\n",
        "\n",
        "# CENTER YOUR DATA, and place in array 'Z'\n",
        "\n",
        "\n",
        "Z = 'X-mu'                           # substract from each measurement in each trial its corresponding mean. \n",
        "\n",
        "\n"
      ],
      "execution_count": null,
      "outputs": []
    },
    {
      "cell_type": "markdown",
      "metadata": {
        "id": "JKgX6YWicx-T"
      },
      "source": [
        "**ANSWER:**\n",
        "\n",
        "\n",
        "."
      ]
    },
    {
      "cell_type": "markdown",
      "metadata": {
        "id": "BFToWaIeTdt1"
      },
      "source": [
        "## 4.2\n",
        "\n",
        "\n",
        "Compute the covariance matrix that we will use to determine the principal neuronal components. What size is this matrix? What does the ij-th entry of this matrix represent?\n",
        "\n"
      ]
    },
    {
      "cell_type": "markdown",
      "metadata": {
        "id": "hSUIKwr3eh3j"
      },
      "source": [
        "**ANSWER**\n",
        "\n",
        ".\n"
      ]
    },
    {
      "cell_type": "code",
      "metadata": {
        "id": "TiOR6O9qeN3d"
      },
      "source": [
        "# Add covariance matrix here and call it 'Q'\n",
        "Q = 'covariance matrix'\n",
        "\n",
        "print(Q.shape)"
      ],
      "execution_count": null,
      "outputs": []
    },
    {
      "cell_type": "markdown",
      "metadata": {
        "id": "qo4IJ-u5ToKp"
      },
      "source": [
        "## 4.3\n",
        "\n",
        "Use the eig command from the **numpy.linalg** toolbox to compute the eigenvectors and eigenvalues of the covariance matrix. \n",
        "\n",
        "<br>\n",
        "\n",
        "Order the eigenvalues in descending order.\n",
        "\n",
        "<br>\n",
        "\n",
        "\n",
        "What do the eigenvectors represent?\n",
        "\n"
      ]
    },
    {
      "cell_type": "markdown",
      "metadata": {
        "id": "CQru_H9Ktqt-"
      },
      "source": [
        "**ANSWER**\n",
        "\n",
        "\n",
        ".\n",
        "\n",
        "\n"
      ]
    },
    {
      "cell_type": "code",
      "metadata": {
        "id": "VuH3E15GteAa"
      },
      "source": [],
      "execution_count": null,
      "outputs": []
    },
    {
      "cell_type": "markdown",
      "metadata": {
        "id": "GEryMfbzTywX"
      },
      "source": [
        "## 4.4\n",
        "\n",
        "In two subplots, plot the eigenvalues in descending order, and the percentage of variance explained (numpy.cumsum may be helpful). How much variance is explained by the first two principal components?\n",
        "\n"
      ]
    },
    {
      "cell_type": "markdown",
      "source": [
        "**ANSWER**\n",
        "\n",
        "\n",
        "."
      ],
      "metadata": {
        "id": "CBGWyeyaVZbj"
      }
    },
    {
      "cell_type": "code",
      "metadata": {
        "id": "2hJ_suZxcPVV"
      },
      "source": [
        "# CALCULATE AND PLOT VARIANCE EXPLAINED\n",
        "\n",
        "\n",
        "\n",
        "# variance explained by first two principal components:\n",
        "print(\"Variance explained : \")"
      ],
      "execution_count": null,
      "outputs": []
    },
    {
      "cell_type": "markdown",
      "metadata": {
        "id": "fiFtiik_T4u5"
      },
      "source": [
        "## 4.5\n",
        "\n",
        "We will now visualize the neuronal data in two dimensions to observe how the population of neurons in motor cortex fires differently when the monkey reaches in different directions. First, write Python code to plot two dimensions (e.g., Neurons 7 and 8) of the **mean-subtracted** data. \n",
        "\n",
        "Each point on your plot should represent a trial, with a different color for each reach direction. This will help you visualize how well the neuronal activity clusters according to reach direction. Later, you will use this code to plot the first two principal components of your data. Check that your plot of responses from neurons 7 and 8 matches the figure below (of course, your colors may be different - note a lack of clear clustering).\n",
        "\n",
        ".\n",
        "\n"
      ]
    },
    {
      "cell_type": "markdown",
      "metadata": {
        "id": "GzuzGPuq4ZTk"
      },
      "source": [
        "![image.png](data:image/png;base64,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)"
      ]
    },
    {
      "cell_type": "markdown",
      "source": [
        "**ANSWER**\n",
        "\n",
        "\n",
        "."
      ],
      "metadata": {
        "id": "1DgML2xNWtV1"
      }
    },
    {
      "cell_type": "code",
      "metadata": {
        "id": "nsKAQ4QReRxm"
      },
      "source": [
        "# neuron 7 and neuron 8 data\n",
        "\n",
        "fig5, ax5 = plt.subplots(figsize=(8,8))\n",
        "\n",
        "print(\"direction.shape :\",direction.shape)\n",
        "\n",
        "\n",
        "# ADD YOUR CODE HERE\n",
        "\n"
      ],
      "execution_count": null,
      "outputs": []
    },
    {
      "cell_type": "markdown",
      "metadata": {
        "id": "F_v-s-TaUJVr"
      },
      "source": [
        "picture\n",
        "\n",
        "\n"
      ]
    },
    {
      "cell_type": "markdown",
      "metadata": {
        "id": "S9PKUJfYUNlk"
      },
      "source": [
        "## 4.6\n",
        "\n",
        "Plot the first two principal components of your data. \n",
        "\n",
        "Each point should correspond to a different trial and should be colored according to the reach direction for that trial. What do you notice?\n",
        "\n"
      ]
    },
    {
      "cell_type": "markdown",
      "source": [
        "**ANSWER**\n",
        "\n",
        "\n",
        "."
      ],
      "metadata": {
        "id": "vehToViFXV5M"
      }
    },
    {
      "cell_type": "code",
      "metadata": {
        "id": "4USj-N2GYpif"
      },
      "source": [
        "# CODE FOR PROJECTING YOUR DATA ON PC1 and PC2\n",
        "\n"
      ],
      "execution_count": null,
      "outputs": []
    },
    {
      "cell_type": "markdown",
      "metadata": {
        "id": "OoscWpU3ccyB"
      },
      "source": [
        "**ANSWER**\n",
        "\n",
        "data are mostly clustered in two groups: \n",
        "\n",
        "\n",
        "....."
      ]
    },
    {
      "cell_type": "markdown",
      "metadata": {
        "id": "WYzcOtTfUUuZ"
      },
      "source": [
        "#PROBLEM 5: Principal Components to Decode Neuronal Activity\n",
        "\n",
        "\n",
        "Now we will consider a simple way of decoding the neuronal activity in motor cortex to move an artificial hand. Suppose we have a simple robotic hand that we want the monkey to control. The simple hand has two motors: positive voltage to motor A makes the hand move right, and positive voltage to motor B makes the hand move up (negative voltage to either motor makes the hand move in the opposite direction as positive voltage does). For each motor, we assign each neuron a weight, which determines how much the voltage to that motor is influenced by the activity of that neuron. Specifically, $𝑉_𝐴 = \\sum_i w_{Ai}\\cdot r_i$, where $𝑉_𝐴$ is the voltage to motor $A$, $𝑤_{𝐴𝑖}$ is the weight from neuron $i$ to motor $A$, and $𝑟_𝑖$ is the mean-subtracted firing rate of neuron (See the diagram below).\n",
        "\n",
        "\n",
        ".\n",
        "\n",
        "Therefore motor A controls motion along the x-axis and motor B controls motion along the y-axis.\n",
        "\n",
        ".\n",
        "\n",
        "\n"
      ]
    },
    {
      "cell_type": "markdown",
      "metadata": {
        "id": "5ZE3bd9KVIvX"
      },
      "source": [
        "![image.png](data:image/png;base64,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)"
      ]
    },
    {
      "cell_type": "markdown",
      "metadata": {
        "id": "RlshPml_VKWD"
      },
      "source": [
        "## 5.1\n",
        "\n",
        "Suppose we connected each neuron to motor A with the weights specified by the first principal component. What would happen when the monkey tried to reach up (90 degrees reach direction)?\n",
        "\n"
      ]
    },
    {
      "cell_type": "markdown",
      "metadata": {
        "id": "aJ-dJoBCjUiT"
      },
      "source": [
        "**ANSWER**\n",
        "\n",
        "\n",
        ".\n"
      ]
    },
    {
      "cell_type": "markdown",
      "metadata": {
        "id": "y_0YXDNzVQzx"
      },
      "source": [
        "## 5.2\n",
        "\n",
        "Suppose we also connected each neuron to motor B with the weights specified by the second component. What would happen now when the monkey tried to reach up?\n",
        "\n"
      ]
    },
    {
      "cell_type": "markdown",
      "metadata": {
        "id": "sSMYzbdimHE3"
      },
      "source": [
        "**ANSWER**\n",
        "\n",
        "\n",
        "\n",
        ".\n"
      ]
    },
    {
      "cell_type": "markdown",
      "metadata": {
        "id": "Ff6rS9eYVVv2"
      },
      "source": [
        "## 5.3\n",
        "\n",
        "What linear algebra technique could we use to correct the weights so that the artificial hand moves in the correct direction?\n",
        "\n"
      ]
    },
    {
      "cell_type": "markdown",
      "metadata": {
        "id": "k2tQljlbmhTD"
      },
      "source": [
        "**ANSWER**\n",
        "\n",
        "\n",
        ".\n",
        "\n"
      ]
    }
  ]
}